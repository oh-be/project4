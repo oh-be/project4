{
 "cells": [
  {
   "cell_type": "code",
   "execution_count": null,
   "id": "d5a4a3f7-9c2b-4d41-9d02-f91e008a407e",
   "metadata": {},
   "outputs": [],
   "source": []
  }
 ],
 "metadata": {
  "kernelspec": {
   "display_name": "Python [conda env:sete]",
   "language": "python",
   "name": "conda-env-sete-py"
  },
  "language_info": {
   "codemirror_mode": {
    "name": "ipython",
    "version": 3
   },
   "file_extension": ".py",
   "mimetype": "text/x-python",
   "name": "python",
   "nbconvert_exporter": "python",
   "pygments_lexer": "ipython3",
   "version": "3.8.13"
  }
 },
 "nbformat": 4,
 "nbformat_minor": 5
}
