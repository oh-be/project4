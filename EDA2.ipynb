{
 "cells": [
  {
   "cell_type": "code",
   "execution_count": 2,
   "id": "72fd23b8-aa67-472a-a40d-3c169c97b9cd",
   "metadata": {},
   "outputs": [],
   "source": [
    "import matplotlib.pyplot as plt \n",
    "from matplotlib.pylab import rcParams\n",
    "import pandas as pd\n",
    "import scipy.stats as sts\n",
    "import numpy as np\n",
    "%matplotlib inline\n",
    "import seaborn as sns\n",
    "sns.set(style='darkgrid',font='Arial',font_scale=1.2)\n",
    "rcParams['figure.figsize'] = 12,8\n",
    "rcParams['axes.spines.top'] = False\n",
    "rcParams['axes.spines.right'] = False"
   ]
  },
  {
   "cell_type": "code",
   "execution_count": 3,
   "id": "775a11d5-7499-4ec8-a5ab-256769f7a598",
   "metadata": {},
   "outputs": [],
   "source": [
    "df = pd.read_csv('Metro_ZORI_AllHomesPlusMultifamily_Smoothed.csv')"
   ]
  },
  {
   "cell_type": "code",
   "execution_count": 4,
   "id": "a6c38b0c-f071-4ac3-9be9-7fd4dfebeb4f",
   "metadata": {},
   "outputs": [],
   "source": [
    "df = df[df['RegionName']=='Chicago, IL']"
   ]
  },
  {
   "cell_type": "code",
   "execution_count": 5,
   "id": "102f71d7-9425-4686-9413-af7b52f96d5b",
   "metadata": {},
   "outputs": [
    {
     "data": {
      "text/html": [
       "<div>\n",
       "<style scoped>\n",
       "    .dataframe tbody tr th:only-of-type {\n",
       "        vertical-align: middle;\n",
       "    }\n",
       "\n",
       "    .dataframe tbody tr th {\n",
       "        vertical-align: top;\n",
       "    }\n",
       "\n",
       "    .dataframe thead th {\n",
       "        text-align: right;\n",
       "    }\n",
       "</style>\n",
       "<table border=\"1\" class=\"dataframe\">\n",
       "  <thead>\n",
       "    <tr style=\"text-align: right;\">\n",
       "      <th></th>\n",
       "      <th>RegionID</th>\n",
       "      <th>RegionName</th>\n",
       "      <th>SizeRank</th>\n",
       "      <th>2014-01</th>\n",
       "      <th>2014-02</th>\n",
       "      <th>2014-03</th>\n",
       "      <th>2014-04</th>\n",
       "      <th>2014-05</th>\n",
       "      <th>2014-06</th>\n",
       "      <th>2014-07</th>\n",
       "      <th>...</th>\n",
       "      <th>2021-05</th>\n",
       "      <th>2021-06</th>\n",
       "      <th>2021-07</th>\n",
       "      <th>2021-08</th>\n",
       "      <th>2021-09</th>\n",
       "      <th>2021-10</th>\n",
       "      <th>2021-11</th>\n",
       "      <th>2021-12</th>\n",
       "      <th>2022-01</th>\n",
       "      <th>2022-02</th>\n",
       "    </tr>\n",
       "  </thead>\n",
       "  <tbody>\n",
       "    <tr>\n",
       "      <th>3</th>\n",
       "      <td>394463</td>\n",
       "      <td>Chicago, IL</td>\n",
       "      <td>3</td>\n",
       "      <td>1414.0</td>\n",
       "      <td>1426</td>\n",
       "      <td>1427.0</td>\n",
       "      <td>1432</td>\n",
       "      <td>1447</td>\n",
       "      <td>1461</td>\n",
       "      <td>1470</td>\n",
       "      <td>...</td>\n",
       "      <td>1679.0</td>\n",
       "      <td>1702</td>\n",
       "      <td>1721</td>\n",
       "      <td>1740</td>\n",
       "      <td>1746.0</td>\n",
       "      <td>1751.0</td>\n",
       "      <td>1757</td>\n",
       "      <td>1771</td>\n",
       "      <td>1785</td>\n",
       "      <td>1797</td>\n",
       "    </tr>\n",
       "  </tbody>\n",
       "</table>\n",
       "<p>1 rows × 101 columns</p>\n",
       "</div>"
      ],
      "text/plain": [
       "   RegionID   RegionName  SizeRank  2014-01  2014-02  2014-03  2014-04  \\\n",
       "3    394463  Chicago, IL         3   1414.0     1426   1427.0     1432   \n",
       "\n",
       "   2014-05  2014-06  2014-07  ...  2021-05  2021-06  2021-07  2021-08  \\\n",
       "3     1447     1461     1470  ...   1679.0     1702     1721     1740   \n",
       "\n",
       "   2021-09  2021-10  2021-11  2021-12  2022-01  2022-02  \n",
       "3   1746.0   1751.0     1757     1771     1785     1797  \n",
       "\n",
       "[1 rows x 101 columns]"
      ]
     },
     "execution_count": 5,
     "metadata": {},
     "output_type": "execute_result"
    }
   ],
   "source": [
    "df"
   ]
  },
  {
   "cell_type": "code",
   "execution_count": 11,
   "id": "8d2100fa-0b5b-4be7-8d67-f099324e6ddc",
   "metadata": {},
   "outputs": [],
   "source": [
    "df2 = pd.read_html('https://www.rentcafe.com/average-rent-market-trends/us/il/chicago/')"
   ]
  },
  {
   "cell_type": "code",
   "execution_count": 8,
   "id": "c9b86271-19ab-4d67-b753-a7bd1f321007",
   "metadata": {},
   "outputs": [
    {
     "name": "stderr",
     "output_type": "stream",
     "text": [
      "/Users/ccbernal/opt/anaconda3/lib/python3.8/site-packages/pandas/core/internals/construction.py:540: VisibleDeprecationWarning: Creating an ndarray from ragged nested sequences (which is a list-or-tuple of lists-or-tuples-or ndarrays with different lengths or shapes) is deprecated. If you meant to do this, you must specify 'dtype=object' when creating the ndarray.\n",
      "  values = np.array([convert(v) for v in values])\n"
     ]
    }
   ],
   "source": [
    "df2 = pd.DataFrame(df2)"
   ]
  },
  {
   "cell_type": "code",
   "execution_count": 12,
   "id": "bade60e1-b045-4aad-9519-64273c15a4e3",
   "metadata": {},
   "outputs": [
    {
     "data": {
      "text/plain": [
       "[  Average Rent Average Apartment Size\n",
       " 0       $2,080            750 sq. ft.,\n",
       "   Average Rent Jul / 2018 Nov / 2018 Mar / 2019 Jul / 2019 Nov / 2019  \\\n",
       " 0  Chicago, IL     $1,896     $1,897     $1,910     $1,998     $1,950   \n",
       " 1     National        NaN     $1,362     $1,367     $1,399     $1,407   \n",
       " \n",
       "   Mar / 2020 Jul / 2020 Nov / 2020 Mar / 2021 Jul / 2021 Feb / 2022  \n",
       " 0     $1,967     $1,918     $1,794     $1,862     $2,033     $2,080  \n",
       " 1     $1,409     $1,399     $1,403     $1,412     $1,495     $1,628  ,\n",
       "                Neighborhood Average Rent\n",
       " 0             Streeterville       $2,775\n",
       " 1    Near East Side Chicago       $2,666\n",
       " 2             Dearborn Park       $2,644\n",
       " 3             Printer's Row       $2,644\n",
       " 4               River North       $2,643\n",
       " ..                      ...          ...\n",
       " 175                 Chatham         $782\n",
       " 176            East Chatham         $782\n",
       " 177                Marynook         $782\n",
       " 178       West Chesterfield         $782\n",
       " 179              The Island         $654\n",
       " \n",
       " [180 rows x 2 columns],\n",
       " Empty DataFrame\n",
       " Columns: [Average Rent, $1,293]\n",
       " Index: [],\n",
       " Empty DataFrame\n",
       " Columns: [Average Rent, $1,316]\n",
       " Index: [],\n",
       "                  City Average Rent\n",
       " 0             Chicago       $2,080\n",
       " 1            Oak Park       $2,075\n",
       " 2            Evanston       $2,148\n",
       " 3              Skokie       $1,765\n",
       " 4          Naperville       $1,744\n",
       " 5              Aurora       $1,585\n",
       " 6           Riverdale         $902\n",
       " 7         Forest Park       $1,110\n",
       " 8          Schaumburg       $1,608\n",
       " 9   Arlington Heights       $1,617\n",
       " 10        Des Plaines       $1,543]"
      ]
     },
     "execution_count": 12,
     "metadata": {},
     "output_type": "execute_result"
    }
   ],
   "source": [
    "df2"
   ]
  },
  {
   "cell_type": "code",
   "execution_count": null,
   "id": "4e9fdaea-a191-4a5b-8293-7621cda3c4c1",
   "metadata": {},
   "outputs": [],
   "source": []
  }
 ],
 "metadata": {
  "kernelspec": {
   "display_name": "Python 3.8.8 64-bit ('anaconda3': virtualenv)",
   "language": "python",
   "name": "python388jvsc74a57bd05abdbe8034b21d4c458fff369d5f0f6169e5d00b70062a20fafdd11b461ce89b"
  },
  "language_info": {
   "codemirror_mode": {
    "name": "ipython",
    "version": 3
   },
   "file_extension": ".py",
   "mimetype": "text/x-python",
   "name": "python",
   "nbconvert_exporter": "python",
   "pygments_lexer": "ipython3",
   "version": "3.8.12"
  }
 },
 "nbformat": 4,
 "nbformat_minor": 5
}
