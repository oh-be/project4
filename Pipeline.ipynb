{
 "cells": [
  {
   "cell_type": "markdown",
   "id": "68e0ffff-9fe0-469f-8b08-87f521b3a7b4",
   "metadata": {},
   "source": [
    "# Pipeline"
   ]
  },
  {
   "cell_type": "code",
   "execution_count": 1,
   "id": "4d5f28f3-3caf-4b8f-a1ab-01b8a25ad7f0",
   "metadata": {},
   "outputs": [],
   "source": [
    "import matplotlib.pyplot as plt \n",
    "from matplotlib.pylab import rcParams\n",
    "import pandas as pd\n",
    "import scipy.stats as sts\n",
    "import numpy as np\n",
    "%matplotlib inline\n",
    "import seaborn as sns\n",
    "sns.set(style='darkgrid',font='Arial',font_scale=1.2)\n",
    "rcParams['figure.figsize'] = 12,8\n",
    "rcParams['axes.spines.top'] = False\n",
    "rcParams['axes.spines.right'] = False"
   ]
  },
  {
   "cell_type": "code",
   "execution_count": 31,
   "id": "5af68640-333c-4e7f-89ef-86f6c0d68d05",
   "metadata": {},
   "outputs": [],
   "source": [
    "def investment_calc(rent, total_price, maintenance, insurance, taxes, management, other): \n",
    "    taxes = taxes/12\n",
    "#def rent_total(rent):\n",
    "    monthly_rent = rent\n",
    "    yearly_rent = rent * 12\n",
    "    #return monthly_rent, yearly_rent\n",
    "\n",
    "#def gross_rent_multiplier (total_price, yearly_rent):\n",
    "    GRM = total_price / yearly_rent\n",
    "    GRM = \"{:.2f}\".format(GRM)\n",
    "    #return GRM\n",
    "\n",
    "#def operating_expenses(maintenance, insurance, taxes, management, other):\n",
    "    op_ex = (maintenance + insurance + taxes + management + other)\n",
    "    op_exyearly = (maintenance + insurance + taxes + management + other) * 12\n",
    "    #return op_ex_monthly, op_ex_yearly\n",
    "\n",
    "#def noi(monthly_rent, op_ex_monthly, yearly_rent, op_ex_yearly):\n",
    "    noi_monthly = monthly_rent - op_ex\n",
    "    noi_yearly = yearly_rent - op_exyearly\n",
    "    #return noi_monthly, noi_yearly\n",
    "\n",
    "#def one_percent_rule(monthly_rent, total_price):\n",
    "    one_percent = (total_price * .01)\n",
    "    boolean = monthly_rent >= one_percent\n",
    "    #return boolean\n",
    "\n",
    "#def cap_rate(noi_yearly, total_price):\n",
    "    c_rate = (noi_yearly / total_price)*100\n",
    "    c_rate = \"{:.2f}\".format(c_rate)\n",
    "    #return c_rate\n",
    "    \n",
    "    return c_rate, GRM, noi_monthly, noi_yearly, boolean"
   ]
  },
  {
   "cell_type": "code",
   "execution_count": 33,
   "id": "72e53d91-374e-4255-b0f7-38a451906128",
   "metadata": {},
   "outputs": [
    {
     "name": "stdin",
     "output_type": "stream",
     "text": [
      "Enter Approximate Monthly Rent 2000\n",
      "Enter Total Property Price 190000\n",
      "Enter Approximate Monthly Property Maintenance Cost 120\n",
      "Enter Approximate Monthly Property Insurance Cost 124\n",
      "Enter Approximate Yearly Property Tax 6784\n",
      "Enter Approximate Monthly Property Management Cost 50\n",
      "Enter Any other Approximate Monthly Property Expenses 50\n"
     ]
    },
    {
     "name": "stdout",
     "output_type": "stream",
     "text": [
      "\n",
      "\n",
      "Cap Rate: 7.18%\n",
      "Gross Rent Multiplier: 7.92\n",
      "Net Operating income: $1136.5 Monthly\n",
      "Net Operating income: $13638.0 Annual\n",
      "Is the One Percent Rule in effect?: True\n"
     ]
    }
   ],
   "source": [
    "rent = int(input('Enter Approximate Monthly Rent'))\n",
    "total_price = int(input('Enter Total Property Price'))\n",
    "maintenance = int(input('Enter Approximate Monthly Property Maintenance Cost'))\n",
    "insurance = int(input('Enter Approximate Monthly Property Insurance Cost'))\n",
    "taxes = (int(input('Enter Approximate Yearly Property Tax'))) / 12\n",
    "management = int(input('Enter Approximate Monthly Property Management Cost'))\n",
    "other = int(input('Enter Any other Approximate Monthly Property Expenses'))\n",
    "\n",
    "    \n",
    "c_rate, GRM, noi_monthly, noi_yearly, boolean = investment_calc(rent, total_price, maintenance, insurance, management, taxes, other)\n",
    "\n",
    "print('\\n')\n",
    "print(f'Cap Rate: {c_rate}%')\n",
    "print(f'Gross Rent Multiplier: {GRM}')\n",
    "print(f'Net Operating income: ${noi_monthly} Monthly')\n",
    "print(f'Net Operating income: ${noi_yearly} Annual')\n",
    "print(f'Is the One Percent Rule in effect?: {boolean}')"
   ]
  },
  {
   "cell_type": "code",
   "execution_count": null,
   "id": "f546f776-c171-4ed4-b955-56629957c146",
   "metadata": {},
   "outputs": [],
   "source": []
  }
 ],
 "metadata": {
  "kernelspec": {
   "display_name": "Python [conda env:sete]",
   "language": "python",
   "name": "conda-env-sete-py"
  },
  "language_info": {
   "codemirror_mode": {
    "name": "ipython",
    "version": 3
   },
   "file_extension": ".py",
   "mimetype": "text/x-python",
   "name": "python",
   "nbconvert_exporter": "python",
   "pygments_lexer": "ipython3",
   "version": "3.8.13"
  }
 },
 "nbformat": 4,
 "nbformat_minor": 5
}
