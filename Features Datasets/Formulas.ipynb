{
 "cells": [
  {
   "cell_type": "markdown",
   "id": "371ea2f3-408c-4be5-bb1d-f5b7a46ea826",
   "metadata": {
    "tags": []
   },
   "source": [
    "# The Job of Rentals"
   ]
  },
  {
   "cell_type": "markdown",
   "id": "6ace74cc-718b-4c81-bd6b-52936de50620",
   "metadata": {},
   "source": [
    "### Optimize, Automate, Repeat..."
   ]
  },
  {
   "cell_type": "markdown",
   "id": "9c95c438-b6fd-4286-aec3-0e4b0500fb7d",
   "metadata": {},
   "source": [
    "# Formulas"
   ]
  },
  {
   "cell_type": "code",
   "execution_count": null,
   "id": "f58ba407-9491-40c0-bc42-b65d61bf1547",
   "metadata": {},
   "outputs": [],
   "source": [
    "def rent(rent):\n",
    "    monthly_rent = rent\n",
    "    yearly_rent = rent * 12\n",
    "    return monthly_rent, yearly_rent"
   ]
  },
  {
   "cell_type": "code",
   "execution_count": null,
   "id": "2fe5a1f8-4ef9-4286-842e-bdf1af8845ca",
   "metadata": {},
   "outputs": [],
   "source": [
    "def operating_expenses(maintenance, insurance, taxes, management, other):\n",
    "    op_ex_monthly = (maintenance + insurance + taxes + management + other)\n",
    "    op_ex_yearly = (maintenance + insurance + taxes + management + other) * 12\n",
    "    return op_ex_monthly, op_ex_yearly"
   ]
  },
  {
   "cell_type": "code",
   "execution_count": 31,
   "id": "b44b03d5-1263-453a-bc6a-a60f5f58a837",
   "metadata": {},
   "outputs": [],
   "source": [
    "def noi(monthly_rent, op_ex_monthly, yearly_rent, op_ex_yearly):\n",
    "    noi_monthly = monthly_rent - op_ex_monthly\n",
    "    noi_yearly = (yearly_rent - op_ex_yearly) * 12\n",
    "    return noi_monthly, noi_yearly"
   ]
  },
  {
   "cell_type": "markdown",
   "id": "5a5097d1-7f21-4049-bd68-156b265a92d7",
   "metadata": {
    "tags": []
   },
   "source": [
    "## 1. Income\n",
    "* A Rental Property can produce income\n",
    "* Collect Rent, Pay your expenses and whats left over is income to you (or your company)\n"
   ]
  },
  {
   "cell_type": "markdown",
   "id": "987331a9-deae-4482-9eb3-625f1a365b0a",
   "metadata": {
    "tags": []
   },
   "source": [
    "#### Gross Rent Multiplier (GRM)"
   ]
  },
  {
   "cell_type": "markdown",
   "id": "90621677-41a6-43b4-8589-2fa42d50c8f8",
   "metadata": {},
   "source": [
    "* TOTAL PRICE / TOTAL ANNUAL RENT\n",
    "---\n",
    "* use this to compare properties and/or market\n",
    "* *lower is better (high cash flow - smaller markets)*\n",
    "* 0-09% = Great\n",
    "* 11-25% = Good/Typical\n",
    "* \\>= 30-40% = Bad\n",
    "* *higher is worse (low cash flow - bigger markets / cities etc)*\n",
    "---\n",
    "* _Note_: We will use the outcomes in bulk over a map to determine the best areas to begin to look for properties but we eventually want to use it to compare properties more than anything. That said, I made this function first for quick access but I plan to implement further down the overall pipeline"
   ]
  },
  {
   "cell_type": "code",
   "execution_count": 30,
   "id": "ca45f23b-8a17-43b4-8dbb-84bf8855a7fa",
   "metadata": {},
   "outputs": [],
   "source": [
    "def gross_rent_multiplier(total_price, yearly_rent):\n",
    "    GRM = total_price / yearly_rent\n",
    "    return GRM"
   ]
  },
  {
   "cell_type": "code",
   "execution_count": 29,
   "id": "fcbd3875-bac7-4a1e-9af3-c2df922f0ec4",
   "metadata": {},
   "outputs": [
    {
     "data": {
      "text/plain": [
       "144.0"
      ]
     },
     "execution_count": 29,
     "metadata": {},
     "output_type": "execute_result"
    }
   ],
   "source": [
    "#test\n",
    "grm = gross_rent_multiplier(144000,1000)\n",
    "grm"
   ]
  },
  {
   "cell_type": "markdown",
   "id": "2c418fb6-713d-4b19-8cb0-a82cc49e9086",
   "metadata": {
    "tags": []
   },
   "source": [
    "#### The One Percent Rule"
   ]
  },
  {
   "cell_type": "markdown",
   "id": "ca476486-9068-4257-9374-111ac27dda8d",
   "metadata": {},
   "source": [
    "* (MONTHLY GROSS RENT)  >=   (1% OF TOTAL OF PURCHASE PRICE)\n",
    "---\n",
    "Total Purchase Price in this case does not account for _fixer uppers_ where you would have to pour in money for renovations"
   ]
  },
  {
   "cell_type": "code",
   "execution_count": 26,
   "id": "6a4fa863-d739-4fa8-a39e-66d133dad2ba",
   "metadata": {},
   "outputs": [],
   "source": [
    "def one_percent_rule(monthly_rent, total_price):\n",
    "    one_percent = (total_price * .01)\n",
    "    boolean = monthly_rent >= one_percent\n",
    "    return boolean"
   ]
  },
  {
   "cell_type": "code",
   "execution_count": 27,
   "id": "2e5cc282-da09-4a3f-a927-3e5b97f53059",
   "metadata": {},
   "outputs": [
    {
     "data": {
      "text/plain": [
       "True"
      ]
     },
     "execution_count": 27,
     "metadata": {},
     "output_type": "execute_result"
    }
   ],
   "source": [
    "#test\n",
    "one = one_percent_rule(2000, 190000)\n",
    "one"
   ]
  },
  {
   "cell_type": "code",
   "execution_count": 28,
   "id": "570bb081-152a-4ce9-848b-acae661b8a33",
   "metadata": {},
   "outputs": [
    {
     "data": {
      "text/plain": [
       "False"
      ]
     },
     "execution_count": 28,
     "metadata": {},
     "output_type": "execute_result"
    }
   ],
   "source": [
    "#test\n",
    "one = one_percent_rule(2000, 300000)\n",
    "one"
   ]
  },
  {
   "cell_type": "markdown",
   "id": "bb717449-bebb-4b52-8577-3053d2fdc030",
   "metadata": {
    "tags": []
   },
   "source": [
    "#### Cap Rate (measures the property's ability to produce income)"
   ]
  },
  {
   "cell_type": "markdown",
   "id": "2a8e8037-feed-43fb-8048-ec229c9abb7b",
   "metadata": {},
   "source": [
    "* (NET OPERATING INCOME (ANNUAL))  /   (TOTAL OF PURCHASE PRICE)\n",
    "---\n",
    "* Net Operating Income (also known as NOI)\n",
    "* (Gross Rent) - (annual property operating expenses)\n",
    "> NOI inlcudes __ALL__ operation expenses: `Property Maintenance` `Property Insurance` `Property Taxes` `Property Management`\n",
    "* _Note_: NOI does not include any kind of debt payment!!! (such as mortgage)\n",
    "\n",
    "\n",
    "---\n",
    "* Use Cap Rate for market analysis - compare markets\n",
    "* compare property to property \n",
    "* property type to property type\n",
    "* compare region to region\n",
    "* compare market to market"
   ]
  },
  {
   "cell_type": "code",
   "execution_count": 13,
   "id": "9927f0b9-213d-4e34-95a3-8eedf96ee796",
   "metadata": {},
   "outputs": [],
   "source": [
    "def cap_rate(noi_yearly, total_price):\n",
    "    c_rate = noi / price\n",
    "    return c_rate"
   ]
  },
  {
   "cell_type": "code",
   "execution_count": 19,
   "id": "8357e64c-3cbf-4a27-9775-108e04faed45",
   "metadata": {},
   "outputs": [
    {
     "data": {
      "text/plain": [
       "0.05"
      ]
     },
     "execution_count": 19,
     "metadata": {},
     "output_type": "execute_result"
    }
   ],
   "source": [
    "# test\n",
    "c_rate = cap_rate(5000,1000,1000,0,0,1000,100000)\n",
    "c_rate"
   ]
  },
  {
   "cell_type": "markdown",
   "id": "a7ee0aa3-d772-4037-9229-04ddc01593c4",
   "metadata": {
    "tags": []
   },
   "source": [
    "#### Net Income **After** Financing _NIAF_ (if applicable but not suggested)"
   ]
  },
  {
   "cell_type": "markdown",
   "id": "fa1e2d1f-6f93-4aa2-8492-9935a8514cf9",
   "metadata": {},
   "source": [
    "* (NET OPERATING INCOME (ANNUAL))  /   (FINANCING COST - MONTHLY MORTGAGE PAYMENT)\n",
    "---\n",
    "* used to calculate net income after mortgage payment\n",
    "---\n",
    "* Use to show monthly and yearly net return (when financing - not recommended)"
   ]
  },
  {
   "cell_type": "code",
   "execution_count": 20,
   "id": "d93be0a5-ed0d-4201-9260-5000d8eb54c5",
   "metadata": {},
   "outputs": [],
   "source": [
    "def after_finance(noi_monthly, finance_cost_monthly):\n",
    "    niaf_year = noi_monthly - finance_cost_monthly\n",
    "    return niaf_year"
   ]
  },
  {
   "cell_type": "code",
   "execution_count": 21,
   "id": "4ac27f06-4f64-44e8-87ab-fc5c11ee25b8",
   "metadata": {},
   "outputs": [
    {
     "data": {
      "text/plain": [
       "400"
      ]
     },
     "execution_count": 21,
     "metadata": {},
     "output_type": "execute_result"
    }
   ],
   "source": [
    "# test\n",
    "after = after_finance(1200,800)\n",
    "after"
   ]
  },
  {
   "cell_type": "markdown",
   "id": "194e9eb0-8126-4aa1-86ad-6b6142faf41e",
   "metadata": {
    "tags": []
   },
   "source": [
    "#### Cash-on-Cash Return (output ratio = approx. what your yearly return will be on the property - when financing)"
   ]
  },
  {
   "cell_type": "markdown",
   "id": "0c883811-6d04-47ab-a4af-b300d067dd45",
   "metadata": {},
   "source": [
    "* NIAF / (DOWN PAYMENT)\n",
    "---\n",
    "* gives you an idea of the amount of cash you have invested if you used financing\n",
    "* Down Payment might include stuff like cash for repairs, closing costs, etc."
   ]
  },
  {
   "cell_type": "code",
   "execution_count": 32,
   "id": "2330fc7a-dcf7-4def-9588-9de9ba2972ae",
   "metadata": {},
   "outputs": [
    {
     "data": {
      "text/plain": [
       "6780"
      ]
     },
     "execution_count": 32,
     "metadata": {},
     "output_type": "execute_result"
    }
   ],
   "source": [
    "565*12"
   ]
  },
  {
   "cell_type": "code",
   "execution_count": 22,
   "id": "2039bff5-3466-4b36-b642-ba35e4ddf948",
   "metadata": {},
   "outputs": [],
   "source": [
    "def coc_return(niaf_year, down_payment):\n",
    "    coc = niaf_year / down_payment\n",
    "    return coc"
   ]
  },
  {
   "cell_type": "code",
   "execution_count": 24,
   "id": "3ab047ba-7b4c-4dcd-af32-ccd7fae98b7a",
   "metadata": {},
   "outputs": [
    {
     "data": {
      "text/plain": [
       "0.008"
      ]
     },
     "execution_count": 24,
     "metadata": {},
     "output_type": "execute_result"
    }
   ],
   "source": [
    "coc = coc_return(after, 50000)\n",
    "coc"
   ]
  },
  {
   "cell_type": "markdown",
   "id": "cdf0b63d-79e8-4238-b6a1-da479e81be57",
   "metadata": {
    "tags": []
   },
   "source": [
    "## 2. Increasing Equity - What you own\n",
    "* how do you build Equity on the rental property over time?\n",
    "* the first two points below are the main points for investment / the last two would be mostly applicable after purchase. \n",
    "* with the first two cases, you can essentially control the amount of potential profit by increasing equity"
   ]
  },
  {
   "cell_type": "markdown",
   "id": "2c6136f1-e773-400e-9b83-1e992db55c2f",
   "metadata": {
    "tags": []
   },
   "source": [
    "> _buy low, sell high_\n",
    "* buy at a discount\n",
    "* situations where someone needs to unload/sell quick - motivated sellers\n",
    "* economic circumstances - i.e. foreclosures\n",
    "* calculate discount rate\n",
    "\n",
    "> Add Value (_Force Appreciation_)\n",
    "* you ultimately want the after repair value to be higher than the current value\n",
    "* add an extra room/bath/etc - i.e. turn dining room into a bedroom which costs you 5k but increases property value by 20k\n",
    "* increasing rent to market rates (like if you bought a multi unit property)\n",
    "* decreasing expenses on the property\n",
    "* renovations / additions\n",
    "\n",
    "> Pay down Mortgage (if applicable)\n",
    "\n",
    "> Passive price appreciation\n"
   ]
  },
  {
   "cell_type": "markdown",
   "id": "6b803e9b-148c-46fb-8d8d-5af98abc6243",
   "metadata": {},
   "source": []
  },
  {
   "cell_type": "markdown",
   "id": "9ce69939-2e0a-45ec-ae34-fceb91ce5009",
   "metadata": {},
   "source": []
  },
  {
   "cell_type": "markdown",
   "id": "39611161-205c-42b8-b508-2751e9156354",
   "metadata": {},
   "source": []
  },
  {
   "cell_type": "markdown",
   "id": "c918e875-05da-4a90-af2c-c450bdce8cff",
   "metadata": {},
   "source": []
  },
  {
   "cell_type": "markdown",
   "id": "e2d4ec11-dd70-4fc1-95d9-62fc75a059ba",
   "metadata": {},
   "source": []
  },
  {
   "cell_type": "markdown",
   "id": "0745d518-6836-48e9-bf6c-f98eb5b29498",
   "metadata": {},
   "source": []
  },
  {
   "cell_type": "markdown",
   "id": "2f230ea0-64f1-4efa-877b-19a03261ae41",
   "metadata": {},
   "source": []
  },
  {
   "cell_type": "markdown",
   "id": "16975ac1-dae6-4498-9696-3c5d06cd2c62",
   "metadata": {},
   "source": []
  },
  {
   "cell_type": "markdown",
   "id": "b25a5da8-7f43-48c8-b447-1a4d13af80e5",
   "metadata": {},
   "source": []
  },
  {
   "cell_type": "markdown",
   "id": "a74db06e-86e4-4d9e-a698-798ba9ddcc72",
   "metadata": {},
   "source": []
  },
  {
   "cell_type": "code",
   "execution_count": null,
   "id": "e812df5b-2c62-4bf5-a1c1-66c211ddcf42",
   "metadata": {},
   "outputs": [],
   "source": []
  }
 ],
 "metadata": {
  "kernelspec": {
   "display_name": "Python 3 (ipykernel)",
   "language": "python",
   "name": "python3"
  },
  "language_info": {
   "codemirror_mode": {
    "name": "ipython",
    "version": 3
   },
   "file_extension": ".py",
   "mimetype": "text/x-python",
   "name": "python",
   "nbconvert_exporter": "python",
   "pygments_lexer": "ipython3",
   "version": "3.8.12"
  }
 },
 "nbformat": 4,
 "nbformat_minor": 5
}
