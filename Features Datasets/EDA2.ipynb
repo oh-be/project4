{
 "cells": [
  {
   "cell_type": "code",
   "execution_count": 69,
   "id": "72fd23b8-aa67-472a-a40d-3c169c97b9cd",
   "metadata": {},
   "outputs": [],
   "source": [
    "import matplotlib.pyplot as plt \n",
    "from matplotlib.pylab import rcParams\n",
    "import pandas as pd\n",
    "import scipy.stats as sts\n",
    "import numpy as np\n",
    "%matplotlib inline\n",
    "import seaborn as sns\n",
    "sns.set(style='darkgrid',font='Arial',font_scale=1.2)\n",
    "rcParams['figure.figsize'] = 12,8\n",
    "rcParams['axes.spines.top'] = False\n",
    "rcParams['axes.spines.right'] = False"
   ]
  },
  {
   "cell_type": "code",
   "execution_count": 12,
   "id": "775a11d5-7499-4ec8-a5ab-256769f7a598",
   "metadata": {},
   "outputs": [],
   "source": [
    "df = pd.read_csv('Resources/Metro_ZORI_AllHomesPlusMultifamily_Smoothed.csv')"
   ]
  },
  {
   "cell_type": "code",
   "execution_count": 13,
   "id": "a6c38b0c-f071-4ac3-9be9-7fd4dfebeb4f",
   "metadata": {},
   "outputs": [],
   "source": [
    "df = df[df['RegionName']=='Chicago, IL']"
   ]
  },
  {
   "cell_type": "code",
   "execution_count": 14,
   "id": "102f71d7-9425-4686-9413-af7b52f96d5b",
   "metadata": {},
   "outputs": [
    {
     "data": {
      "text/html": [
       "<div>\n",
       "<style scoped>\n",
       "    .dataframe tbody tr th:only-of-type {\n",
       "        vertical-align: middle;\n",
       "    }\n",
       "\n",
       "    .dataframe tbody tr th {\n",
       "        vertical-align: top;\n",
       "    }\n",
       "\n",
       "    .dataframe thead th {\n",
       "        text-align: right;\n",
       "    }\n",
       "</style>\n",
       "<table border=\"1\" class=\"dataframe\">\n",
       "  <thead>\n",
       "    <tr style=\"text-align: right;\">\n",
       "      <th></th>\n",
       "      <th>RegionID</th>\n",
       "      <th>RegionName</th>\n",
       "      <th>SizeRank</th>\n",
       "      <th>2014-01</th>\n",
       "      <th>2014-02</th>\n",
       "      <th>2014-03</th>\n",
       "      <th>2014-04</th>\n",
       "      <th>2014-05</th>\n",
       "      <th>2014-06</th>\n",
       "      <th>2014-07</th>\n",
       "      <th>...</th>\n",
       "      <th>2021-05</th>\n",
       "      <th>2021-06</th>\n",
       "      <th>2021-07</th>\n",
       "      <th>2021-08</th>\n",
       "      <th>2021-09</th>\n",
       "      <th>2021-10</th>\n",
       "      <th>2021-11</th>\n",
       "      <th>2021-12</th>\n",
       "      <th>2022-01</th>\n",
       "      <th>2022-02</th>\n",
       "    </tr>\n",
       "  </thead>\n",
       "  <tbody>\n",
       "    <tr>\n",
       "      <th>3</th>\n",
       "      <td>394463</td>\n",
       "      <td>Chicago, IL</td>\n",
       "      <td>3</td>\n",
       "      <td>1414.0</td>\n",
       "      <td>1426</td>\n",
       "      <td>1427.0</td>\n",
       "      <td>1432</td>\n",
       "      <td>1447</td>\n",
       "      <td>1461</td>\n",
       "      <td>1470</td>\n",
       "      <td>...</td>\n",
       "      <td>1679.0</td>\n",
       "      <td>1702</td>\n",
       "      <td>1721</td>\n",
       "      <td>1740</td>\n",
       "      <td>1746.0</td>\n",
       "      <td>1751.0</td>\n",
       "      <td>1757</td>\n",
       "      <td>1771</td>\n",
       "      <td>1785</td>\n",
       "      <td>1797</td>\n",
       "    </tr>\n",
       "  </tbody>\n",
       "</table>\n",
       "<p>1 rows × 101 columns</p>\n",
       "</div>"
      ],
      "text/plain": [
       "   RegionID   RegionName  SizeRank  2014-01  2014-02  2014-03  2014-04  \\\n",
       "3    394463  Chicago, IL         3   1414.0     1426   1427.0     1432   \n",
       "\n",
       "   2014-05  2014-06  2014-07  ...  2021-05  2021-06  2021-07  2021-08  \\\n",
       "3     1447     1461     1470  ...   1679.0     1702     1721     1740   \n",
       "\n",
       "   2021-09  2021-10  2021-11  2021-12  2022-01  2022-02  \n",
       "3   1746.0   1751.0     1757     1771     1785     1797  \n",
       "\n",
       "[1 rows x 101 columns]"
      ]
     },
     "execution_count": 14,
     "metadata": {},
     "output_type": "execute_result"
    }
   ],
   "source": [
    "df"
   ]
  },
  {
   "cell_type": "code",
   "execution_count": 8,
   "id": "8d2100fa-0b5b-4be7-8d67-f099324e6ddc",
   "metadata": {},
   "outputs": [],
   "source": [
    "df2 = pd.read_html('https://www.rentcafe.com/average-rent-market-trends/us/il/chicago/')"
   ]
  },
  {
   "cell_type": "code",
   "execution_count": 10,
   "id": "c9b86271-19ab-4d67-b753-a7bd1f321007",
   "metadata": {},
   "outputs": [],
   "source": [
    "df2 = pd.DataFrame(df2)"
   ]
  },
  {
   "cell_type": "code",
   "execution_count": 4,
   "id": "4e9fdaea-a191-4a5b-8293-7621cda3c4c1",
   "metadata": {},
   "outputs": [],
   "source": [
    "import json"
   ]
  },
  {
   "cell_type": "code",
   "execution_count": 5,
   "id": "12124d2b-3aec-480c-88bd-0c29d7b7ea68",
   "metadata": {
    "tags": []
   },
   "outputs": [],
   "source": [
    "def cook_housing_data(forRent_data, forSale_data, sold_data):\n",
    "  \n",
    "    # 3. Open the read data JSON file.\n",
    "    with open(forRent_data, mode='r') as file:\n",
    "        forRent_raw = json.load(file)\n",
    "    \n",
    "    # 4. Read in the raw wiki movie data as a Pandas DataFrame.\n",
    "    forRent_df = pd.DataFrame(forRent_raw)\n",
    "    forRent_df = forRent_df['cat1'][0]['searchResults']['mapResults']\n",
    "    forRent_df = pd.DataFrame(forRent_df)\n",
    "    \n",
    "        # 3. Open the read data JSON file.\n",
    "    with open(forSale_data, mode='r') as file:\n",
    "        forSale_raw = json.load(file)\n",
    "    \n",
    "    # 4. Read in the raw wiki movie data as a Pandas DataFrame.\n",
    "    forSale_df = pd.DataFrame(forSale_raw)\n",
    "    forSale_df = forSale_df['cat1'][0]['searchResults']['mapResults']\n",
    "    forSale_df = pd.DataFrame(forSale_df)\n",
    "    \n",
    "        # 3. Open the read data JSON file.\n",
    "    with open(sold_data, mode='r') as file:\n",
    "        sold_raw = json.load(file)\n",
    "    \n",
    "    # 4. Read in the raw wiki movie data as a Pandas DataFrame.\n",
    "    sold_df = pd.DataFrame(sold_raw)\n",
    "    sold_df = sold_df['cat1'][0]['searchResults']['mapResults']\n",
    "    sold_df = pd.DataFrame(sold_df)\n",
    "    \n",
    "    # 5. Return the three DataFrames\n",
    "    return forRent_df, forSale_df, sold_df\n",
    "\n",
    "# 6 Create the path to your file directory and variables for the three files. \n",
    "file_dir = 'Resources'\n",
    "# forRent data\n",
    "rent_file = 'cookrent.json'\n",
    "# forSale data\n",
    "sale_file = 'cooksale.json'\n",
    "# Sold data.\n",
    "sold_file = 'cooksold.json'\n",
    "\n",
    "# 7. Set the three variables in Step 6 equal to the function created in Step 1.\n",
    "rent_file, sale_file, sold_file = cook_housing_data(rent_file, sale_file, sold_file)"
   ]
  },
  {
   "cell_type": "code",
   "execution_count": 9,
   "id": "2920dc49-a7d2-448d-880f-8c9006dccb77",
   "metadata": {
    "tags": []
   },
   "outputs": [
    {
     "data": {
      "text/html": [
       "<div>\n",
       "<style scoped>\n",
       "    .dataframe tbody tr th:only-of-type {\n",
       "        vertical-align: middle;\n",
       "    }\n",
       "\n",
       "    .dataframe tbody tr th {\n",
       "        vertical-align: top;\n",
       "    }\n",
       "\n",
       "    .dataframe thead th {\n",
       "        text-align: right;\n",
       "    }\n",
       "</style>\n",
       "<table border=\"1\" class=\"dataframe\">\n",
       "  <thead>\n",
       "    <tr style=\"text-align: right;\">\n",
       "      <th></th>\n",
       "      <th>zpid</th>\n",
       "      <th>price</th>\n",
       "      <th>priceLabel</th>\n",
       "      <th>beds</th>\n",
       "      <th>baths</th>\n",
       "      <th>area</th>\n",
       "      <th>latLong</th>\n",
       "      <th>statusType</th>\n",
       "      <th>statusText</th>\n",
       "      <th>isFavorite</th>\n",
       "      <th>...</th>\n",
       "      <th>minBeds</th>\n",
       "      <th>minBaths</th>\n",
       "      <th>minArea</th>\n",
       "      <th>unitCount</th>\n",
       "      <th>isBuilding</th>\n",
       "      <th>badgeInfo</th>\n",
       "      <th>canSaveBuilding</th>\n",
       "      <th>streetViewMetadataURL</th>\n",
       "      <th>streetViewURL</th>\n",
       "      <th>lotAreaString</th>\n",
       "    </tr>\n",
       "  </thead>\n",
       "  <tbody>\n",
       "    <tr>\n",
       "      <th>0</th>\n",
       "      <td>2097300238</td>\n",
       "      <td>$495,000</td>\n",
       "      <td>$495K</td>\n",
       "      <td>5.0</td>\n",
       "      <td>4.0</td>\n",
       "      <td>2977.0</td>\n",
       "      <td>{'latitude': 41.774418, 'longitude': -87.78626}</td>\n",
       "      <td>SOLD</td>\n",
       "      <td>Sold</td>\n",
       "      <td>False</td>\n",
       "      <td>...</td>\n",
       "      <td>NaN</td>\n",
       "      <td>NaN</td>\n",
       "      <td>NaN</td>\n",
       "      <td>NaN</td>\n",
       "      <td>NaN</td>\n",
       "      <td>NaN</td>\n",
       "      <td>NaN</td>\n",
       "      <td>NaN</td>\n",
       "      <td>NaN</td>\n",
       "      <td>NaN</td>\n",
       "    </tr>\n",
       "    <tr>\n",
       "      <th>1</th>\n",
       "      <td>4265953</td>\n",
       "      <td>$164,000</td>\n",
       "      <td>$164K</td>\n",
       "      <td>4.0</td>\n",
       "      <td>2.0</td>\n",
       "      <td>1014.0</td>\n",
       "      <td>{'latitude': 41.59421, 'longitude': -87.66351}</td>\n",
       "      <td>SOLD</td>\n",
       "      <td>Sold</td>\n",
       "      <td>False</td>\n",
       "      <td>...</td>\n",
       "      <td>NaN</td>\n",
       "      <td>NaN</td>\n",
       "      <td>NaN</td>\n",
       "      <td>NaN</td>\n",
       "      <td>NaN</td>\n",
       "      <td>NaN</td>\n",
       "      <td>NaN</td>\n",
       "      <td>NaN</td>\n",
       "      <td>NaN</td>\n",
       "      <td>NaN</td>\n",
       "    </tr>\n",
       "    <tr>\n",
       "      <th>2</th>\n",
       "      <td>2108986447</td>\n",
       "      <td>$525,000</td>\n",
       "      <td>$525K</td>\n",
       "      <td>1.0</td>\n",
       "      <td>2.0</td>\n",
       "      <td>1000.0</td>\n",
       "      <td>{'latitude': 41.92909, 'longitude': -87.63933}</td>\n",
       "      <td>SOLD</td>\n",
       "      <td>Sold</td>\n",
       "      <td>False</td>\n",
       "      <td>...</td>\n",
       "      <td>NaN</td>\n",
       "      <td>NaN</td>\n",
       "      <td>NaN</td>\n",
       "      <td>NaN</td>\n",
       "      <td>NaN</td>\n",
       "      <td>NaN</td>\n",
       "      <td>NaN</td>\n",
       "      <td>NaN</td>\n",
       "      <td>NaN</td>\n",
       "      <td>NaN</td>\n",
       "    </tr>\n",
       "    <tr>\n",
       "      <th>3</th>\n",
       "      <td>3979232</td>\n",
       "      <td>$275,000</td>\n",
       "      <td>$275K</td>\n",
       "      <td>4.0</td>\n",
       "      <td>2.0</td>\n",
       "      <td>1748.0</td>\n",
       "      <td>{'latitude': 41.74069, 'longitude': -87.6946}</td>\n",
       "      <td>SOLD</td>\n",
       "      <td>Sold</td>\n",
       "      <td>False</td>\n",
       "      <td>...</td>\n",
       "      <td>NaN</td>\n",
       "      <td>NaN</td>\n",
       "      <td>NaN</td>\n",
       "      <td>NaN</td>\n",
       "      <td>NaN</td>\n",
       "      <td>NaN</td>\n",
       "      <td>NaN</td>\n",
       "      <td>NaN</td>\n",
       "      <td>NaN</td>\n",
       "      <td>NaN</td>\n",
       "    </tr>\n",
       "    <tr>\n",
       "      <th>4</th>\n",
       "      <td>49917563</td>\n",
       "      <td>$206,000</td>\n",
       "      <td>$206K</td>\n",
       "      <td>2.0</td>\n",
       "      <td>1.0</td>\n",
       "      <td>900.0</td>\n",
       "      <td>{'latitude': 41.97165, 'longitude': -87.66999}</td>\n",
       "      <td>SOLD</td>\n",
       "      <td>Sold</td>\n",
       "      <td>False</td>\n",
       "      <td>...</td>\n",
       "      <td>NaN</td>\n",
       "      <td>NaN</td>\n",
       "      <td>NaN</td>\n",
       "      <td>NaN</td>\n",
       "      <td>NaN</td>\n",
       "      <td>NaN</td>\n",
       "      <td>NaN</td>\n",
       "      <td>NaN</td>\n",
       "      <td>NaN</td>\n",
       "      <td>NaN</td>\n",
       "    </tr>\n",
       "    <tr>\n",
       "      <th>...</th>\n",
       "      <td>...</td>\n",
       "      <td>...</td>\n",
       "      <td>...</td>\n",
       "      <td>...</td>\n",
       "      <td>...</td>\n",
       "      <td>...</td>\n",
       "      <td>...</td>\n",
       "      <td>...</td>\n",
       "      <td>...</td>\n",
       "      <td>...</td>\n",
       "      <td>...</td>\n",
       "      <td>...</td>\n",
       "      <td>...</td>\n",
       "      <td>...</td>\n",
       "      <td>...</td>\n",
       "      <td>...</td>\n",
       "      <td>...</td>\n",
       "      <td>...</td>\n",
       "      <td>...</td>\n",
       "      <td>...</td>\n",
       "      <td>...</td>\n",
       "    </tr>\n",
       "    <tr>\n",
       "      <th>495</th>\n",
       "      <td>80843546</td>\n",
       "      <td>$499,000</td>\n",
       "      <td>$499K</td>\n",
       "      <td>4.0</td>\n",
       "      <td>3.0</td>\n",
       "      <td>2450.0</td>\n",
       "      <td>{'latitude': 41.991207, 'longitude': -87.67745}</td>\n",
       "      <td>SOLD</td>\n",
       "      <td>Sold</td>\n",
       "      <td>False</td>\n",
       "      <td>...</td>\n",
       "      <td>NaN</td>\n",
       "      <td>NaN</td>\n",
       "      <td>NaN</td>\n",
       "      <td>NaN</td>\n",
       "      <td>NaN</td>\n",
       "      <td>NaN</td>\n",
       "      <td>NaN</td>\n",
       "      <td>NaN</td>\n",
       "      <td>NaN</td>\n",
       "      <td>NaN</td>\n",
       "    </tr>\n",
       "    <tr>\n",
       "      <th>496</th>\n",
       "      <td>49918680</td>\n",
       "      <td>$545,000</td>\n",
       "      <td>$545K</td>\n",
       "      <td>4.0</td>\n",
       "      <td>3.0</td>\n",
       "      <td>2000.0</td>\n",
       "      <td>{'latitude': 41.937263, 'longitude': -87.67793}</td>\n",
       "      <td>SOLD</td>\n",
       "      <td>Sold</td>\n",
       "      <td>False</td>\n",
       "      <td>...</td>\n",
       "      <td>NaN</td>\n",
       "      <td>NaN</td>\n",
       "      <td>NaN</td>\n",
       "      <td>NaN</td>\n",
       "      <td>NaN</td>\n",
       "      <td>NaN</td>\n",
       "      <td>NaN</td>\n",
       "      <td>NaN</td>\n",
       "      <td>NaN</td>\n",
       "      <td>NaN</td>\n",
       "    </tr>\n",
       "    <tr>\n",
       "      <th>497</th>\n",
       "      <td>54530663</td>\n",
       "      <td>$390,000</td>\n",
       "      <td>$390K</td>\n",
       "      <td>3.0</td>\n",
       "      <td>3.0</td>\n",
       "      <td>2000.0</td>\n",
       "      <td>{'latitude': 42.040005, 'longitude': -88.06179}</td>\n",
       "      <td>SOLD</td>\n",
       "      <td>Sold</td>\n",
       "      <td>False</td>\n",
       "      <td>...</td>\n",
       "      <td>NaN</td>\n",
       "      <td>NaN</td>\n",
       "      <td>NaN</td>\n",
       "      <td>NaN</td>\n",
       "      <td>NaN</td>\n",
       "      <td>NaN</td>\n",
       "      <td>NaN</td>\n",
       "      <td>NaN</td>\n",
       "      <td>NaN</td>\n",
       "      <td>NaN</td>\n",
       "    </tr>\n",
       "    <tr>\n",
       "      <th>498</th>\n",
       "      <td>3914375</td>\n",
       "      <td>$265,000</td>\n",
       "      <td>$265K</td>\n",
       "      <td>3.0</td>\n",
       "      <td>1.0</td>\n",
       "      <td>1040.0</td>\n",
       "      <td>{'latitude': 41.81486, 'longitude': -87.689156}</td>\n",
       "      <td>SOLD</td>\n",
       "      <td>Sold</td>\n",
       "      <td>False</td>\n",
       "      <td>...</td>\n",
       "      <td>NaN</td>\n",
       "      <td>NaN</td>\n",
       "      <td>NaN</td>\n",
       "      <td>NaN</td>\n",
       "      <td>NaN</td>\n",
       "      <td>NaN</td>\n",
       "      <td>NaN</td>\n",
       "      <td>NaN</td>\n",
       "      <td>NaN</td>\n",
       "      <td>NaN</td>\n",
       "    </tr>\n",
       "    <tr>\n",
       "      <th>499</th>\n",
       "      <td>87697121</td>\n",
       "      <td>$2.25M</td>\n",
       "      <td>$2.25M</td>\n",
       "      <td>4.0</td>\n",
       "      <td>7.0</td>\n",
       "      <td>10157.0</td>\n",
       "      <td>{'latitude': 42.096767, 'longitude': -88.143776}</td>\n",
       "      <td>SOLD</td>\n",
       "      <td>Sold</td>\n",
       "      <td>False</td>\n",
       "      <td>...</td>\n",
       "      <td>NaN</td>\n",
       "      <td>NaN</td>\n",
       "      <td>NaN</td>\n",
       "      <td>NaN</td>\n",
       "      <td>NaN</td>\n",
       "      <td>NaN</td>\n",
       "      <td>NaN</td>\n",
       "      <td>NaN</td>\n",
       "      <td>NaN</td>\n",
       "      <td>NaN</td>\n",
       "    </tr>\n",
       "  </tbody>\n",
       "</table>\n",
       "<p>500 rows × 40 columns</p>\n",
       "</div>"
      ],
      "text/plain": [
       "           zpid     price priceLabel  beds  baths     area  \\\n",
       "0    2097300238  $495,000      $495K   5.0    4.0   2977.0   \n",
       "1       4265953  $164,000      $164K   4.0    2.0   1014.0   \n",
       "2    2108986447  $525,000      $525K   1.0    2.0   1000.0   \n",
       "3       3979232  $275,000      $275K   4.0    2.0   1748.0   \n",
       "4      49917563  $206,000      $206K   2.0    1.0    900.0   \n",
       "..          ...       ...        ...   ...    ...      ...   \n",
       "495    80843546  $499,000      $499K   4.0    3.0   2450.0   \n",
       "496    49918680  $545,000      $545K   4.0    3.0   2000.0   \n",
       "497    54530663  $390,000      $390K   3.0    3.0   2000.0   \n",
       "498     3914375  $265,000      $265K   3.0    1.0   1040.0   \n",
       "499    87697121    $2.25M     $2.25M   4.0    7.0  10157.0   \n",
       "\n",
       "                                              latLong statusType statusText  \\\n",
       "0     {'latitude': 41.774418, 'longitude': -87.78626}       SOLD       Sold   \n",
       "1      {'latitude': 41.59421, 'longitude': -87.66351}       SOLD       Sold   \n",
       "2      {'latitude': 41.92909, 'longitude': -87.63933}       SOLD       Sold   \n",
       "3       {'latitude': 41.74069, 'longitude': -87.6946}       SOLD       Sold   \n",
       "4      {'latitude': 41.97165, 'longitude': -87.66999}       SOLD       Sold   \n",
       "..                                                ...        ...        ...   \n",
       "495   {'latitude': 41.991207, 'longitude': -87.67745}       SOLD       Sold   \n",
       "496   {'latitude': 41.937263, 'longitude': -87.67793}       SOLD       Sold   \n",
       "497   {'latitude': 42.040005, 'longitude': -88.06179}       SOLD       Sold   \n",
       "498   {'latitude': 41.81486, 'longitude': -87.689156}       SOLD       Sold   \n",
       "499  {'latitude': 42.096767, 'longitude': -88.143776}       SOLD       Sold   \n",
       "\n",
       "     isFavorite  ... minBeds minBaths minArea unitCount isBuilding badgeInfo  \\\n",
       "0         False  ...     NaN      NaN     NaN       NaN        NaN       NaN   \n",
       "1         False  ...     NaN      NaN     NaN       NaN        NaN       NaN   \n",
       "2         False  ...     NaN      NaN     NaN       NaN        NaN       NaN   \n",
       "3         False  ...     NaN      NaN     NaN       NaN        NaN       NaN   \n",
       "4         False  ...     NaN      NaN     NaN       NaN        NaN       NaN   \n",
       "..          ...  ...     ...      ...     ...       ...        ...       ...   \n",
       "495       False  ...     NaN      NaN     NaN       NaN        NaN       NaN   \n",
       "496       False  ...     NaN      NaN     NaN       NaN        NaN       NaN   \n",
       "497       False  ...     NaN      NaN     NaN       NaN        NaN       NaN   \n",
       "498       False  ...     NaN      NaN     NaN       NaN        NaN       NaN   \n",
       "499       False  ...     NaN      NaN     NaN       NaN        NaN       NaN   \n",
       "\n",
       "    canSaveBuilding streetViewMetadataURL streetViewURL lotAreaString  \n",
       "0               NaN                   NaN           NaN           NaN  \n",
       "1               NaN                   NaN           NaN           NaN  \n",
       "2               NaN                   NaN           NaN           NaN  \n",
       "3               NaN                   NaN           NaN           NaN  \n",
       "4               NaN                   NaN           NaN           NaN  \n",
       "..              ...                   ...           ...           ...  \n",
       "495             NaN                   NaN           NaN           NaN  \n",
       "496             NaN                   NaN           NaN           NaN  \n",
       "497             NaN                   NaN           NaN           NaN  \n",
       "498             NaN                   NaN           NaN           NaN  \n",
       "499             NaN                   NaN           NaN           NaN  \n",
       "\n",
       "[500 rows x 40 columns]"
      ]
     },
     "execution_count": 9,
     "metadata": {},
     "output_type": "execute_result"
    }
   ],
   "source": [
    "sold_file"
   ]
  },
  {
   "cell_type": "code",
   "execution_count": 10,
   "id": "009f8678-1619-4d36-8b06-8533a35f962f",
   "metadata": {},
   "outputs": [],
   "source": [
    "def flatten(t):\n",
    "    return [item for sublist in t for item in sublist]"
   ]
  },
  {
   "cell_type": "code",
   "execution_count": 11,
   "id": "028d4a82-a886-419c-a030-38456194fe2a",
   "metadata": {},
   "outputs": [],
   "source": [
    "sold = flatten(sold_file)"
   ]
  },
  {
   "cell_type": "code",
   "execution_count": 6,
   "id": "3d4c6eaa-e965-43ef-b455-01e81e73cf2c",
   "metadata": {
    "tags": []
   },
   "outputs": [],
   "source": [
    "rent_file = pd.DataFrame(rent_file)"
   ]
  },
  {
   "cell_type": "code",
   "execution_count": 87,
   "id": "ad41b7c7-ca4f-4e93-932c-1d9280efe423",
   "metadata": {},
   "outputs": [],
   "source": [
    "rent_cords = rent_file['latLong']"
   ]
  },
  {
   "cell_type": "code",
   "execution_count": 88,
   "id": "8c0911a4-31a3-466a-8487-ba2ee89ca8fe",
   "metadata": {},
   "outputs": [
    {
     "data": {
      "text/plain": [
       "0      {'latitude': 41.949432, 'longitude': -87.652336}\n",
       "1        {'latitude': 41.88579, 'longitude': -87.63036}\n",
       "2       {'latitude': 41.902073, 'longitude': -87.63038}\n",
       "3        {'latitude': 41.94554, 'longitude': -87.65599}\n",
       "4        {'latitude': 41.88094, 'longitude': -87.64239}\n",
       "                             ...                       \n",
       "495     {'latitude': 42.071087, 'longitude': -88.04702}\n",
       "496       {'latitude': 41.93821, 'longitude': -87.6634}\n",
       "497    {'latitude': 41.967503, 'longitude': -87.768524}\n",
       "498      {'latitude': 41.74421, 'longitude': -87.60342}\n",
       "499    {'latitude': 41.970818, 'longitude': -87.672386}\n",
       "Name: latLong, Length: 500, dtype: object"
      ]
     },
     "execution_count": 88,
     "metadata": {},
     "output_type": "execute_result"
    }
   ],
   "source": [
    "rent_cords"
   ]
  },
  {
   "cell_type": "code",
   "execution_count": 112,
   "id": "55f9f92f-27ae-4fc3-8800-391f2ac7e18e",
   "metadata": {},
   "outputs": [],
   "source": [
    "zrent = rent_file['hdpData']"
   ]
  },
  {
   "cell_type": "code",
   "execution_count": 89,
   "id": "339d4a2b-e6a5-4147-84b6-cf86fdd9dfeb",
   "metadata": {},
   "outputs": [],
   "source": [
    "rent_cords = rent_cords.apply(pd.Series)"
   ]
  },
  {
   "cell_type": "code",
   "execution_count": 90,
   "id": "f03e358c-cdf5-46ae-beb8-f91132ba8b0a",
   "metadata": {},
   "outputs": [
    {
     "data": {
      "text/html": [
       "<div>\n",
       "<style scoped>\n",
       "    .dataframe tbody tr th:only-of-type {\n",
       "        vertical-align: middle;\n",
       "    }\n",
       "\n",
       "    .dataframe tbody tr th {\n",
       "        vertical-align: top;\n",
       "    }\n",
       "\n",
       "    .dataframe thead th {\n",
       "        text-align: right;\n",
       "    }\n",
       "</style>\n",
       "<table border=\"1\" class=\"dataframe\">\n",
       "  <thead>\n",
       "    <tr style=\"text-align: right;\">\n",
       "      <th></th>\n",
       "      <th>latitude</th>\n",
       "      <th>longitude</th>\n",
       "    </tr>\n",
       "  </thead>\n",
       "  <tbody>\n",
       "    <tr>\n",
       "      <th>0</th>\n",
       "      <td>41.949432</td>\n",
       "      <td>-87.652336</td>\n",
       "    </tr>\n",
       "    <tr>\n",
       "      <th>1</th>\n",
       "      <td>41.885790</td>\n",
       "      <td>-87.630360</td>\n",
       "    </tr>\n",
       "    <tr>\n",
       "      <th>2</th>\n",
       "      <td>41.902073</td>\n",
       "      <td>-87.630380</td>\n",
       "    </tr>\n",
       "    <tr>\n",
       "      <th>3</th>\n",
       "      <td>41.945540</td>\n",
       "      <td>-87.655990</td>\n",
       "    </tr>\n",
       "    <tr>\n",
       "      <th>4</th>\n",
       "      <td>41.880940</td>\n",
       "      <td>-87.642390</td>\n",
       "    </tr>\n",
       "    <tr>\n",
       "      <th>...</th>\n",
       "      <td>...</td>\n",
       "      <td>...</td>\n",
       "    </tr>\n",
       "    <tr>\n",
       "      <th>495</th>\n",
       "      <td>42.071087</td>\n",
       "      <td>-88.047020</td>\n",
       "    </tr>\n",
       "    <tr>\n",
       "      <th>496</th>\n",
       "      <td>41.938210</td>\n",
       "      <td>-87.663400</td>\n",
       "    </tr>\n",
       "    <tr>\n",
       "      <th>497</th>\n",
       "      <td>41.967503</td>\n",
       "      <td>-87.768524</td>\n",
       "    </tr>\n",
       "    <tr>\n",
       "      <th>498</th>\n",
       "      <td>41.744210</td>\n",
       "      <td>-87.603420</td>\n",
       "    </tr>\n",
       "    <tr>\n",
       "      <th>499</th>\n",
       "      <td>41.970818</td>\n",
       "      <td>-87.672386</td>\n",
       "    </tr>\n",
       "  </tbody>\n",
       "</table>\n",
       "<p>500 rows × 2 columns</p>\n",
       "</div>"
      ],
      "text/plain": [
       "      latitude  longitude\n",
       "0    41.949432 -87.652336\n",
       "1    41.885790 -87.630360\n",
       "2    41.902073 -87.630380\n",
       "3    41.945540 -87.655990\n",
       "4    41.880940 -87.642390\n",
       "..         ...        ...\n",
       "495  42.071087 -88.047020\n",
       "496  41.938210 -87.663400\n",
       "497  41.967503 -87.768524\n",
       "498  41.744210 -87.603420\n",
       "499  41.970818 -87.672386\n",
       "\n",
       "[500 rows x 2 columns]"
      ]
     },
     "execution_count": 90,
     "metadata": {},
     "output_type": "execute_result"
    }
   ],
   "source": [
    "rent_cords"
   ]
  },
  {
   "cell_type": "code",
   "execution_count": 91,
   "id": "5528db7b-c86f-4a8b-a531-4819333983f9",
   "metadata": {},
   "outputs": [
    {
     "data": {
      "text/html": [
       "<div>\n",
       "<style scoped>\n",
       "    .dataframe tbody tr th:only-of-type {\n",
       "        vertical-align: middle;\n",
       "    }\n",
       "\n",
       "    .dataframe tbody tr th {\n",
       "        vertical-align: top;\n",
       "    }\n",
       "\n",
       "    .dataframe thead th {\n",
       "        text-align: right;\n",
       "    }\n",
       "</style>\n",
       "<table border=\"1\" class=\"dataframe\">\n",
       "  <thead>\n",
       "    <tr style=\"text-align: right;\">\n",
       "      <th></th>\n",
       "      <th>Latitude</th>\n",
       "      <th>Longitude</th>\n",
       "      <th>rentZestimate</th>\n",
       "    </tr>\n",
       "  </thead>\n",
       "  <tbody>\n",
       "    <tr>\n",
       "      <th>0</th>\n",
       "      <td>41.949432</td>\n",
       "      <td>-87.652336</td>\n",
       "      <td>1999.0</td>\n",
       "    </tr>\n",
       "    <tr>\n",
       "      <th>1</th>\n",
       "      <td>41.885790</td>\n",
       "      <td>-87.630360</td>\n",
       "      <td>2762.5</td>\n",
       "    </tr>\n",
       "    <tr>\n",
       "      <th>2</th>\n",
       "      <td>41.902073</td>\n",
       "      <td>-87.630380</td>\n",
       "      <td>2472.0</td>\n",
       "    </tr>\n",
       "    <tr>\n",
       "      <th>3</th>\n",
       "      <td>41.945540</td>\n",
       "      <td>-87.655990</td>\n",
       "      <td>3542.5</td>\n",
       "    </tr>\n",
       "    <tr>\n",
       "      <th>4</th>\n",
       "      <td>41.880940</td>\n",
       "      <td>-87.642390</td>\n",
       "      <td>2764.0</td>\n",
       "    </tr>\n",
       "    <tr>\n",
       "      <th>...</th>\n",
       "      <td>...</td>\n",
       "      <td>...</td>\n",
       "      <td>...</td>\n",
       "    </tr>\n",
       "    <tr>\n",
       "      <th>495</th>\n",
       "      <td>42.071087</td>\n",
       "      <td>-88.047020</td>\n",
       "      <td>1665.5</td>\n",
       "    </tr>\n",
       "    <tr>\n",
       "      <th>496</th>\n",
       "      <td>41.938210</td>\n",
       "      <td>-87.663400</td>\n",
       "      <td>1599.0</td>\n",
       "    </tr>\n",
       "    <tr>\n",
       "      <th>497</th>\n",
       "      <td>41.967503</td>\n",
       "      <td>-87.768524</td>\n",
       "      <td>1699.0</td>\n",
       "    </tr>\n",
       "    <tr>\n",
       "      <th>498</th>\n",
       "      <td>41.744210</td>\n",
       "      <td>-87.603420</td>\n",
       "      <td>1082.0</td>\n",
       "    </tr>\n",
       "    <tr>\n",
       "      <th>499</th>\n",
       "      <td>41.970818</td>\n",
       "      <td>-87.672386</td>\n",
       "      <td>1249.0</td>\n",
       "    </tr>\n",
       "  </tbody>\n",
       "</table>\n",
       "<p>500 rows × 3 columns</p>\n",
       "</div>"
      ],
      "text/plain": [
       "      Latitude  Longitude  rentZestimate\n",
       "0    41.949432 -87.652336         1999.0\n",
       "1    41.885790 -87.630360         2762.5\n",
       "2    41.902073 -87.630380         2472.0\n",
       "3    41.945540 -87.655990         3542.5\n",
       "4    41.880940 -87.642390         2764.0\n",
       "..         ...        ...            ...\n",
       "495  42.071087 -88.047020         1665.5\n",
       "496  41.938210 -87.663400         1599.0\n",
       "497  41.967503 -87.768524         1699.0\n",
       "498  41.744210 -87.603420         1082.0\n",
       "499  41.970818 -87.672386         1249.0\n",
       "\n",
       "[500 rows x 3 columns]"
      ]
     },
     "execution_count": 91,
     "metadata": {},
     "output_type": "execute_result"
    }
   ],
   "source": [
    "rent3"
   ]
  },
  {
   "cell_type": "code",
   "execution_count": 99,
   "id": "cabbf15a-cd00-4c82-9343-f207dd173f8b",
   "metadata": {},
   "outputs": [],
   "source": [
    "rent4 = rent_file['price']"
   ]
  },
  {
   "cell_type": "code",
   "execution_count": 100,
   "id": "d496a7f6-f833-4ab5-9e99-db29a32707a7",
   "metadata": {},
   "outputs": [
    {
     "data": {
      "text/plain": [
       "0       $2,500/mo\n",
       "1      $2,372+/mo\n",
       "2      $1,350+/mo\n",
       "3      $2,275+/mo\n",
       "4      $1,475+/mo\n",
       "          ...    \n",
       "495    $1,468+/mo\n",
       "496     $1,490/mo\n",
       "497     $1,700/mo\n",
       "498       $950/mo\n",
       "499     $1,675/mo\n",
       "Name: price, Length: 500, dtype: object"
      ]
     },
     "execution_count": 100,
     "metadata": {},
     "output_type": "execute_result"
    }
   ],
   "source": [
    "rent4"
   ]
  },
  {
   "cell_type": "code",
   "execution_count": 101,
   "id": "8bbe5df1-979f-4eab-b349-faeb1ebc0482",
   "metadata": {},
   "outputs": [],
   "source": [
    "rent4 = rent4.str.replace('[^\\d.]', '').astype(float)"
   ]
  },
  {
   "cell_type": "code",
   "execution_count": 102,
   "id": "9ff6fff2-085b-479e-8769-a54b331eeb8c",
   "metadata": {},
   "outputs": [
    {
     "data": {
      "text/plain": [
       "0      2500.0\n",
       "1      2372.0\n",
       "2      1350.0\n",
       "3      2275.0\n",
       "4      1475.0\n",
       "        ...  \n",
       "495    1468.0\n",
       "496    1490.0\n",
       "497    1700.0\n",
       "498     950.0\n",
       "499    1675.0\n",
       "Name: price, Length: 500, dtype: float64"
      ]
     },
     "execution_count": 102,
     "metadata": {},
     "output_type": "execute_result"
    }
   ],
   "source": [
    "rent4"
   ]
  },
  {
   "cell_type": "code",
   "execution_count": 103,
   "id": "39394717-dc91-49e6-a7cf-78485a0df54a",
   "metadata": {},
   "outputs": [],
   "source": [
    "rent5 = pd.DataFrame(rent4, columns=['MarketRent'])"
   ]
  },
  {
   "cell_type": "code",
   "execution_count": 104,
   "id": "62df233d-6bed-4e60-a2f9-fb662e765286",
   "metadata": {},
   "outputs": [
    {
     "data": {
      "text/html": [
       "<div>\n",
       "<style scoped>\n",
       "    .dataframe tbody tr th:only-of-type {\n",
       "        vertical-align: middle;\n",
       "    }\n",
       "\n",
       "    .dataframe tbody tr th {\n",
       "        vertical-align: top;\n",
       "    }\n",
       "\n",
       "    .dataframe thead th {\n",
       "        text-align: right;\n",
       "    }\n",
       "</style>\n",
       "<table border=\"1\" class=\"dataframe\">\n",
       "  <thead>\n",
       "    <tr style=\"text-align: right;\">\n",
       "      <th></th>\n",
       "      <th>MarketRent</th>\n",
       "    </tr>\n",
       "  </thead>\n",
       "  <tbody>\n",
       "  </tbody>\n",
       "</table>\n",
       "</div>"
      ],
      "text/plain": [
       "Empty DataFrame\n",
       "Columns: [MarketRent]\n",
       "Index: []"
      ]
     },
     "execution_count": 104,
     "metadata": {},
     "output_type": "execute_result"
    }
   ],
   "source": [
    "rent5"
   ]
  },
  {
   "cell_type": "code",
   "execution_count": 114,
   "id": "c9c55981-0d55-407b-9a10-63fe86f27cf8",
   "metadata": {},
   "outputs": [],
   "source": [
    "zrent = zrent.apply(pd.Series)"
   ]
  },
  {
   "cell_type": "code",
   "execution_count": 116,
   "id": "2f5a79f4-68c2-4eb4-a83a-8f0c790f6cbe",
   "metadata": {},
   "outputs": [],
   "source": [
    "price = zrent['homeInfo'].apply(pd.Series)"
   ]
  },
  {
   "cell_type": "code",
   "execution_count": 23,
   "id": "46e32f62-ac5e-4a3e-a090-6a71e043cc36",
   "metadata": {},
   "outputs": [],
   "source": [
    "zrentestimate = zrent['rentZestimate']"
   ]
  },
  {
   "cell_type": "code",
   "execution_count": 24,
   "id": "a711ea41-c1a6-4ac4-92cd-fd0e7476f153",
   "metadata": {},
   "outputs": [],
   "source": [
    "zrentestimate = pd.DataFrame(zrentestimate)"
   ]
  },
  {
   "cell_type": "code",
   "execution_count": 105,
   "id": "fea2a99b-2d9a-4d09-8ae8-31196377caaf",
   "metadata": {},
   "outputs": [],
   "source": [
    "rent_cords.insert(2, 'rentZestimate', rent4)"
   ]
  },
  {
   "cell_type": "code",
   "execution_count": 106,
   "id": "38ed6a66-6782-45a9-8b35-5bd332de6112",
   "metadata": {},
   "outputs": [],
   "source": [
    "rent = rent_cords"
   ]
  },
  {
   "cell_type": "code",
   "execution_count": 118,
   "id": "5767b7a8-4ea7-44dc-a530-58c84ce90a6e",
   "metadata": {},
   "outputs": [],
   "source": [
    "price2 = price['zestimate']"
   ]
  },
  {
   "cell_type": "code",
   "execution_count": 120,
   "id": "42f08f32-ada7-46ce-ada3-41a559a280cc",
   "metadata": {},
   "outputs": [
    {
     "name": "stdout",
     "output_type": "stream",
     "text": [
      "<class 'pandas.core.series.Series'>\n",
      "RangeIndex: 500 entries, 0 to 499\n",
      "Series name: zestimate\n",
      "Non-Null Count  Dtype  \n",
      "--------------  -----  \n",
      "44 non-null     float64\n",
      "dtypes: float64(1)\n",
      "memory usage: 4.0 KB\n"
     ]
    }
   ],
   "source": [
    "price2.info()"
   ]
  },
  {
   "cell_type": "code",
   "execution_count": 108,
   "id": "af12dd10-f4d5-474e-b602-241594a7bcf9",
   "metadata": {},
   "outputs": [
    {
     "name": "stdout",
     "output_type": "stream",
     "text": [
      "<class 'pandas.core.frame.DataFrame'>\n",
      "RangeIndex: 500 entries, 0 to 499\n",
      "Data columns (total 3 columns):\n",
      " #   Column         Non-Null Count  Dtype  \n",
      "---  ------         --------------  -----  \n",
      " 0   latitude       500 non-null    float64\n",
      " 1   longitude      500 non-null    float64\n",
      " 2   rentZestimate  500 non-null    float64\n",
      "dtypes: float64(3)\n",
      "memory usage: 11.8 KB\n"
     ]
    }
   ],
   "source": [
    "rent.info()"
   ]
  },
  {
   "cell_type": "code",
   "execution_count": 65,
   "id": "41629398-ff0b-4d66-9635-b472a291bd21",
   "metadata": {},
   "outputs": [],
   "source": [
    "\n",
    "from sklearn.impute import KNNImputer\n",
    "\n",
    "imputer = KNNImputer(n_neighbors=2)\n",
    "rent2 = imputer.fit_transform(rent)\n"
   ]
  },
  {
   "cell_type": "code",
   "execution_count": 66,
   "id": "f0d3cc55-bbb9-41aa-9e45-9e9c6248f7b6",
   "metadata": {},
   "outputs": [],
   "source": [
    "rent3 = pd.DataFrame(rent2, columns=['Latitude', 'Longitude', 'rentZestimate'])"
   ]
  },
  {
   "cell_type": "code",
   "execution_count": 67,
   "id": "3288f099-a844-4d85-99f6-9c9dae094787",
   "metadata": {},
   "outputs": [
    {
     "data": {
      "text/html": [
       "<div>\n",
       "<style scoped>\n",
       "    .dataframe tbody tr th:only-of-type {\n",
       "        vertical-align: middle;\n",
       "    }\n",
       "\n",
       "    .dataframe tbody tr th {\n",
       "        vertical-align: top;\n",
       "    }\n",
       "\n",
       "    .dataframe thead th {\n",
       "        text-align: right;\n",
       "    }\n",
       "</style>\n",
       "<table border=\"1\" class=\"dataframe\">\n",
       "  <thead>\n",
       "    <tr style=\"text-align: right;\">\n",
       "      <th></th>\n",
       "      <th>Latitude</th>\n",
       "      <th>Longitude</th>\n",
       "      <th>rentZestimate</th>\n",
       "    </tr>\n",
       "  </thead>\n",
       "  <tbody>\n",
       "    <tr>\n",
       "      <th>0</th>\n",
       "      <td>41.949432</td>\n",
       "      <td>-87.652336</td>\n",
       "      <td>1999.0</td>\n",
       "    </tr>\n",
       "    <tr>\n",
       "      <th>1</th>\n",
       "      <td>41.885790</td>\n",
       "      <td>-87.630360</td>\n",
       "      <td>2762.5</td>\n",
       "    </tr>\n",
       "    <tr>\n",
       "      <th>2</th>\n",
       "      <td>41.902073</td>\n",
       "      <td>-87.630380</td>\n",
       "      <td>2472.0</td>\n",
       "    </tr>\n",
       "    <tr>\n",
       "      <th>3</th>\n",
       "      <td>41.945540</td>\n",
       "      <td>-87.655990</td>\n",
       "      <td>3542.5</td>\n",
       "    </tr>\n",
       "    <tr>\n",
       "      <th>4</th>\n",
       "      <td>41.880940</td>\n",
       "      <td>-87.642390</td>\n",
       "      <td>2764.0</td>\n",
       "    </tr>\n",
       "    <tr>\n",
       "      <th>...</th>\n",
       "      <td>...</td>\n",
       "      <td>...</td>\n",
       "      <td>...</td>\n",
       "    </tr>\n",
       "    <tr>\n",
       "      <th>495</th>\n",
       "      <td>42.071087</td>\n",
       "      <td>-88.047020</td>\n",
       "      <td>1665.5</td>\n",
       "    </tr>\n",
       "    <tr>\n",
       "      <th>496</th>\n",
       "      <td>41.938210</td>\n",
       "      <td>-87.663400</td>\n",
       "      <td>1599.0</td>\n",
       "    </tr>\n",
       "    <tr>\n",
       "      <th>497</th>\n",
       "      <td>41.967503</td>\n",
       "      <td>-87.768524</td>\n",
       "      <td>1699.0</td>\n",
       "    </tr>\n",
       "    <tr>\n",
       "      <th>498</th>\n",
       "      <td>41.744210</td>\n",
       "      <td>-87.603420</td>\n",
       "      <td>1082.0</td>\n",
       "    </tr>\n",
       "    <tr>\n",
       "      <th>499</th>\n",
       "      <td>41.970818</td>\n",
       "      <td>-87.672386</td>\n",
       "      <td>1249.0</td>\n",
       "    </tr>\n",
       "  </tbody>\n",
       "</table>\n",
       "<p>500 rows × 3 columns</p>\n",
       "</div>"
      ],
      "text/plain": [
       "      Latitude  Longitude  rentZestimate\n",
       "0    41.949432 -87.652336         1999.0\n",
       "1    41.885790 -87.630360         2762.5\n",
       "2    41.902073 -87.630380         2472.0\n",
       "3    41.945540 -87.655990         3542.5\n",
       "4    41.880940 -87.642390         2764.0\n",
       "..         ...        ...            ...\n",
       "495  42.071087 -88.047020         1665.5\n",
       "496  41.938210 -87.663400         1599.0\n",
       "497  41.967503 -87.768524         1699.0\n",
       "498  41.744210 -87.603420         1082.0\n",
       "499  41.970818 -87.672386         1249.0\n",
       "\n",
       "[500 rows x 3 columns]"
      ]
     },
     "execution_count": 67,
     "metadata": {},
     "output_type": "execute_result"
    }
   ],
   "source": [
    "rent3"
   ]
  },
  {
   "cell_type": "code",
   "execution_count": 68,
   "id": "6e7b583c-c12c-460d-aa2a-55cb966b5e69",
   "metadata": {},
   "outputs": [],
   "source": [
    "rent3.to_csv('rentML.csv')"
   ]
  },
  {
   "cell_type": "code",
   "execution_count": 79,
   "id": "1e69ebbb-9247-461c-ad72-d486321e078a",
   "metadata": {},
   "outputs": [
    {
     "name": "stdout",
     "output_type": "stream",
     "text": [
      "<class 'pandas.core.frame.DataFrame'>\n",
      "RangeIndex: 500 entries, 0 to 499\n",
      "Data columns (total 40 columns):\n",
      " #   Column                     Non-Null Count  Dtype  \n",
      "---  ------                     --------------  -----  \n",
      " 0   zpid                       444 non-null    object \n",
      " 1   price                      500 non-null    object \n",
      " 2   priceLabel                 444 non-null    object \n",
      " 3   beds                       431 non-null    float64\n",
      " 4   baths                      433 non-null    float64\n",
      " 5   area                       383 non-null    float64\n",
      " 6   latLong                    500 non-null    object \n",
      " 7   statusType                 500 non-null    object \n",
      " 8   statusText                 500 non-null    object \n",
      " 9   isFavorite                 500 non-null    bool   \n",
      " 10  isUserClaimingOwner        444 non-null    object \n",
      " 11  isUserConfirmedClaim       444 non-null    object \n",
      " 12  imgSrc                     500 non-null    object \n",
      " 13  hasImage                   484 non-null    object \n",
      " 14  visited                    444 non-null    object \n",
      " 15  listingType                500 non-null    object \n",
      " 16  variableData               500 non-null    object \n",
      " 17  hdpData                    444 non-null    object \n",
      " 18  detailUrl                  500 non-null    object \n",
      " 19  pgapt                      444 non-null    object \n",
      " 20  sgapt                      444 non-null    object \n",
      " 21  has3DModel                 500 non-null    bool   \n",
      " 22  hasVideo                   444 non-null    object \n",
      " 23  isHomeRec                  444 non-null    object \n",
      " 24  address                    500 non-null    object \n",
      " 25  hasAdditionalAttributions  500 non-null    bool   \n",
      " 26  isFeaturedListing          500 non-null    bool   \n",
      " 27  availabilityDate           0 non-null      float64\n",
      " 28  buildingId                 56 non-null     object \n",
      " 29  lotId                      47 non-null     float64\n",
      " 30  minBeds                    55 non-null     float64\n",
      " 31  minBaths                   55 non-null     float64\n",
      " 32  minArea                    50 non-null     float64\n",
      " 33  unitCount                  56 non-null     float64\n",
      " 34  isBuilding                 56 non-null     object \n",
      " 35  badgeInfo                  0 non-null      float64\n",
      " 36  canSaveBuilding            56 non-null     object \n",
      " 37  streetViewMetadataURL      16 non-null     object \n",
      " 38  streetViewURL              16 non-null     object \n",
      " 39  lotAreaString              7 non-null      object \n",
      "dtypes: bool(4), float64(10), object(26)\n",
      "memory usage: 142.7+ KB\n"
     ]
    }
   ],
   "source": [
    "sold_file.info()"
   ]
  },
  {
   "cell_type": "code",
   "execution_count": 4,
   "id": "155ae44c-0585-4730-b422-a6434a7ded14",
   "metadata": {
    "tags": []
   },
   "outputs": [
    {
     "ename": "NameError",
     "evalue": "name 'sold_file' is not defined",
     "output_type": "error",
     "traceback": [
      "\u001b[0;31m---------------------------------------------------------------------------\u001b[0m",
      "\u001b[0;31mNameError\u001b[0m                                 Traceback (most recent call last)",
      "Input \u001b[0;32mIn [4]\u001b[0m, in \u001b[0;36m<cell line: 1>\u001b[0;34m()\u001b[0m\n\u001b[0;32m----> 1\u001b[0m \u001b[43msold_file\u001b[49m[\u001b[38;5;124m'\u001b[39m\u001b[38;5;124mcat1\u001b[39m\u001b[38;5;124m'\u001b[39m][\u001b[38;5;241m0\u001b[39m][\u001b[38;5;124m'\u001b[39m\u001b[38;5;124msearchResults\u001b[39m\u001b[38;5;124m'\u001b[39m][\u001b[38;5;124m'\u001b[39m\u001b[38;5;124mmapResults\u001b[39m\u001b[38;5;124m'\u001b[39m][\u001b[38;5;241m0\u001b[39m]\n",
      "\u001b[0;31mNameError\u001b[0m: name 'sold_file' is not defined"
     ]
    }
   ],
   "source": [
    "sold_file['cat1'][0]['searchResults']['mapResults'][0]"
   ]
  },
  {
   "cell_type": "code",
   "execution_count": 57,
   "id": "8e8f68f3-3531-409d-a20c-ef6aeaccc06c",
   "metadata": {
    "collapsed": true,
    "jupyter": {
     "outputs_hidden": true
    },
    "tags": []
   },
   "outputs": [
    {
     "data": {
      "text/plain": [
       "{'zpid': '2064285875',\n",
       " 'price': '$225,000',\n",
       " 'priceLabel': '$225K',\n",
       " 'beds': 4,\n",
       " 'baths': 2.0,\n",
       " 'area': 1806,\n",
       " 'latLong': {'latitude': 41.70106, 'longitude': -87.81534},\n",
       " 'statusType': 'FOR_SALE',\n",
       " 'statusText': 'Condo for sale',\n",
       " 'isFavorite': False,\n",
       " 'isUserClaimingOwner': False,\n",
       " 'isUserConfirmedClaim': False,\n",
       " 'imgSrc': 'https://photos.zillowstatic.com/fp/798692109d5eb9b87724e69ab6d16789-p_e.jpg',\n",
       " 'hasImage': True,\n",
       " 'visited': False,\n",
       " 'listingType': '',\n",
       " 'variableData': None,\n",
       " 'hdpData': {'homeInfo': {'zpid': 2064285875,\n",
       "   'zipcode': '60465',\n",
       "   'city': 'Palos Hills',\n",
       "   'state': 'IL',\n",
       "   'latitude': 41.70106,\n",
       "   'longitude': -87.81534,\n",
       "   'price': 225000.0,\n",
       "   'bathrooms': 2.0,\n",
       "   'bedrooms': 4.0,\n",
       "   'livingArea': 1806.0,\n",
       "   'homeType': 'CONDO',\n",
       "   'homeStatus': 'FOR_SALE',\n",
       "   'daysOnZillow': -1,\n",
       "   'isFeatured': False,\n",
       "   'shouldHighlight': False,\n",
       "   'listing_sub_type': {'is_FSBA': True},\n",
       "   'isUnmappable': False,\n",
       "   'isPreforeclosureAuction': False,\n",
       "   'homeStatusForHDP': 'FOR_SALE',\n",
       "   'priceForHDP': 225000.0,\n",
       "   'isNonOwnerOccupied': True,\n",
       "   'isPremierBuilder': False,\n",
       "   'isZillowOwned': False,\n",
       "   'currency': 'USD',\n",
       "   'country': 'USA',\n",
       "   'unit': 'Apt 1S',\n",
       "   'lotAreaValue': 0.3305785123966942,\n",
       "   'lotAreaUnit': 'acres'}},\n",
       " 'detailUrl': '/homedetails/10409-Sheffield-Dr-APT-1S-Palos-Hills-IL-60465/2064285875_zpid/',\n",
       " 'pgapt': 'ForSale',\n",
       " 'sgapt': 'For Sale by Agent',\n",
       " 'has3DModel': False,\n",
       " 'hasVideo': False,\n",
       " 'isHomeRec': False,\n",
       " 'address': '--',\n",
       " 'hasAdditionalAttributions': False,\n",
       " 'isFeaturedListing': False,\n",
       " 'availabilityDate': None}"
      ]
     },
     "execution_count": 57,
     "metadata": {},
     "output_type": "execute_result"
    }
   ],
   "source": [
    "sale_file['cat1'][0]['searchResults']['mapResults'][0]"
   ]
  },
  {
   "cell_type": "code",
   "execution_count": null,
   "id": "f931a537-fa90-479d-9ded-1fddac21ea16",
   "metadata": {},
   "outputs": [],
   "source": [
    "from bs4 import BeautifulSoup\n",
    "import lxml\n",
    "import requests\n",
    "import regex as re\n",
    "from lxml.html.soupparser import fromstring\n",
    "import prettify\n",
    "import numbers\n",
    "import htmltext"
   ]
  },
  {
   "cell_type": "code",
   "execution_count": 3,
   "id": "55ed1ecf-201e-4cba-b2c6-34603526190c",
   "metadata": {
    "tags": []
   },
   "outputs": [
    {
     "name": "stdout",
     "output_type": "stream",
     "text": [
      "Active          235 W Van Buren St UNIT 1721, Chicago, IL 60607    $151,204       \n",
      "New             4346 N Kenmore Ave #3S, Chicago, IL 60613          $309,900       \n",
      "New             2020 N Lincoln Park W APT 3M, Chicago, IL 60614    $329,800       \n",
      "Multi-family home for sale 3245 E 91st St #1, Chicago, IL 60617               $150,000       \n",
      "New             600 N Kingsbury St APT 1004, Chicago, IL 60654     $289,000       \n",
      "New             9303 Whitehall Ln, Orland Park, IL 60462           $235,000       \n",
      "Active          509 Davis St, Park Forest, IL 60466                $42,000        \n",
      "New             5914 S Kedzie Ave APT 21, Chicago, IL 60629        $75,000        \n",
      "New             5738 W 79th St, Burbank, IL 60459                  $385,000       \n",
      "New             1150 N Lake Shore Dr APT 4H, Chicago, IL 60611     $399,950       \n",
      "Active          9256 S 53rd Ave, Oak Lawn, IL 60453                $115,000       \n",
      "Active          2414 W Grenshaw St APT 2W, Chicago, IL 60612       $250,000       \n",
      "New             10320 S Seeley Ave, Chicago, IL 60643              $384,900       \n",
      "New             7225 W Higgins Ave UNIT 505, Chicago, IL 60656     $220,000       \n",
      "Active          6166 N Sheridan Rd APT 4C, Chicago, IL 60660       $159,900       \n",
      "New             1020 Washington Blvd APT 2A, Oak Park, IL 60302    $230,000       \n",
      "New             10050 W 145th St, Orland Park, IL 60462            $319,000       \n",
      "Active          6429 S Marshfield Ave, Chicago, IL 60636           $190,000       \n",
      "New             523 S Plymouth Ct APT 402, Chicago, IL 60605       $239,000       \n",
      "Active          860 N Lake Shore Dr APT 7L, Chicago, IL 60611      $299,000       \n",
      "New             4617 W Monroe St, Chicago, IL 60644                $274,900       \n",
      "New             957 Rose Ln, Wheeling, IL 60090                    $324,900       \n",
      "Active          2214 Brent Ct, Schaumburg, IL 60194                $220,000       \n",
      "Active          904 W Maude Ave, Arlington Heights, IL 60004       $329,900       \n",
      "Active          9253 S Wabash Ave, Chicago, IL 60619               $215,000       \n",
      "New             9740 S Dobson Ave, Chicago, IL 60628               $299,000       \n",
      "New             1640 E 50th St APT 3B, Chicago, IL 60615           $275,000       \n",
      "New             12355 S State St, Chicago, IL 60628                $225,900       \n",
      "Active          7740 S Marquette Ave, Chicago, IL 60649            $89,900        \n",
      "New             6877 Como Ct, Tinley Park, IL 60477                $234,900       \n",
      "New             5955 N Winthrop Ave APT G, Chicago, IL 60660       $164,900       \n",
      "New             3211 W Lexington St UNIT 3C, Chicago, IL 60624     $169,900       \n",
      "New             828 Judson Ave APT 3, Evanston, IL 60202           $300,000       \n",
      "New             833 Aimtree Pl, Schaumburg, IL 60194               $355,000       \n",
      "New             3950 N Lake Shore Dr APT 1724, Chicago, IL 60613   $199,000       \n",
      "New             655 W Irving Park Rd APT 3606, Chicago, IL 60613   $210,000       \n",
      "New             3150 N Sheridan Rd APT 14B, Chicago, IL 60657      $315,000       \n",
      "New             225 W Huron St APT 501, Chicago, IL 60654          $250,000       \n",
      "New             1255 N Sandburg Ter UNIT 2809E, Chicago, IL 60610  $240,000       \n",
      "New             22764 Redwood Dr, Richton Park, IL 60471           $289,700       \n"
     ]
    }
   ],
   "source": [
    "import json\n",
    "import requests\n",
    "from bs4 import BeautifulSoup\n",
    "\n",
    "\n",
    "url = \"https://www.zillow.com/cook-county-il/?searchQueryState=%7B%22pagination%22%3A%7B%7D%2C%22usersSearchTerm%22%3A%22Cook%20County%2C%20IL%22%2C%22mapBounds%22%3A%7B%22west%22%3A-88.41516423828125%2C%22east%22%3A-86.95947576171875%2C%22south%22%3A41.2102376584151%2C%22north%22%3A42.4098341976659%7D%2C%22regionSelection%22%3A%5B%7B%22regionId%22%3A139%2C%22regionType%22%3A4%7D%5D%2C%22isMapVisible%22%3Atrue%2C%22filterState%22%3A%7B%22sort%22%3A%7B%22value%22%3A%22globalrelevanceex%22%7D%2C%22ah%22%3A%7B%22value%22%3Atrue%7D%7D%2C%22isListVisible%22%3Atrue%2C%22mapZoom%22%3A9%7D\"\n",
    "headers = {\n",
    "    \"User-Agent\": \"Mozilla/5.0 (X11; Ubuntu; Linux x86_64; rv:91.0) Gecko/20100101 Firefox/91.0\"\n",
    "}\n",
    "\n",
    "soup = BeautifulSoup(requests.get(url, headers=headers).content, \"html.parser\")\n",
    "\n",
    "data = json.loads(\n",
    "    soup.select_one(\"script[data-zrr-shared-data-key]\")\n",
    "    .contents[0]\n",
    "    .strip(\"!<>-\")\n",
    ")\n",
    "\n",
    "# uncomment this to print all data:\n",
    "# print(json.dumps(data, indent=4))\n",
    "\n",
    "for result in data[\"cat1\"][\"searchResults\"][\"listResults\"]:\n",
    "    print(\n",
    "        \"{:<15} {:<50} {:<15}\".format(\n",
    "            result[\"statusText\"], result[\"address\"], result[\"price\"]\n",
    "        )\n",
    "    )"
   ]
  },
  {
   "cell_type": "code",
   "execution_count": 168,
   "id": "46261a68-02e7-4d43-ac19-20c7faa7a97d",
   "metadata": {},
   "outputs": [
    {
     "data": {
      "text/plain": [
       "0.006888018148071768"
      ]
     },
     "execution_count": 168,
     "metadata": {},
     "output_type": "execute_result"
    }
   ],
   "source": [
    "3340/484900"
   ]
  },
  {
   "cell_type": "code",
   "execution_count": 172,
   "id": "17530824-76b9-43aa-8390-18916833ebd0",
   "metadata": {},
   "outputs": [
    {
     "data": {
      "text/plain": [
       "504.3391188251001"
      ]
     },
     "execution_count": 172,
     "metadata": {},
     "output_type": "execute_result"
    }
   ],
   "source": [
    "755500/1498"
   ]
  },
  {
   "cell_type": "code",
   "execution_count": 173,
   "id": "940a80b2-0455-4a12-8366-4e4d42db269a",
   "metadata": {},
   "outputs": [
    {
     "data": {
      "text/plain": [
       "42.0"
      ]
     },
     "execution_count": 173,
     "metadata": {},
     "output_type": "execute_result"
    }
   ],
   "source": [
    "504/12"
   ]
  },
  {
   "cell_type": "code",
   "execution_count": 171,
   "id": "359b576c-d1f7-4730-9a8f-df7a3d77888d",
   "metadata": {},
   "outputs": [
    {
     "data": {
      "text/plain": [
       "111.33333333333333"
      ]
     },
     "execution_count": 171,
     "metadata": {},
     "output_type": "execute_result"
    }
   ],
   "source": [
    "3340/30"
   ]
  },
  {
   "cell_type": "code",
   "execution_count": null,
   "id": "f7603d5c-0993-456f-830f-fe22a5ed1c65",
   "metadata": {},
   "outputs": [],
   "source": []
  }
 ],
 "metadata": {
  "kernelspec": {
   "display_name": "Python [conda env:sete]",
   "language": "python",
   "name": "conda-env-sete-py"
  },
  "language_info": {
   "codemirror_mode": {
    "name": "ipython",
    "version": 3
   },
   "file_extension": ".py",
   "mimetype": "text/x-python",
   "name": "python",
   "nbconvert_exporter": "python",
   "pygments_lexer": "ipython3",
   "version": "3.8.13"
  }
 },
 "nbformat": 4,
 "nbformat_minor": 5
}
