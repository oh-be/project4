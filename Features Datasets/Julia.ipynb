{
 "cells": [
  {
   "cell_type": "code",
   "execution_count": 8,
   "id": "13eb349a-9ec9-4752-bb0e-2d267565b430",
   "metadata": {},
   "outputs": [],
   "source": [
    "using BenchmarkTools\n",
    "using DataFrames\n",
    "using DelimitedFiles\n",
    "using CSV\n",
    "using JSON\n"
   ]
  },
  {
   "cell_type": "code",
   "execution_count": 10,
   "id": "56e8da8e-5084-4aaf-8482-a45e42f557ca",
   "metadata": {},
   "outputs": [],
   "source": [
    "using Statistics\n",
    "using StatsBase\n",
    "using RDatasets\n",
    "using Plots\n",
    "using StatsPlots\n",
    "using KernelDensity\n",
    "using Distributions\n",
    "using LinearAlgebra\n",
    "using HypothesisTests\n",
    "using PyCall\n",
    "using MLBase"
   ]
  },
  {
   "cell_type": "code",
   "execution_count": 3,
   "id": "63bb3ac4-0864-4cac-919e-16ac0c328535",
   "metadata": {},
   "outputs": [],
   "source": [
    "C = CSV.read(\"Cook_County_Assessor_s_Residential_Property_Characteristics.csv\", DataFrame);"
   ]
  },
  {
   "cell_type": "code",
   "execution_count": 5,
   "id": "bc11de8c-2ccb-42a2-be44-9d7cc68c9023",
   "metadata": {},
   "outputs": [
    {
     "name": "stdout",
     "output_type": "stream",
     "text": [
      "typeof(C) = DataFrame\n"
     ]
    },
    {
     "data": {
      "text/html": [
       "<div class=\"data-frame\"><p>10 rows × 82 columns (omitted printing of 76 columns)</p><table class=\"data-frame\"><thead><tr><th></th><th>PIN</th><th>Property Class</th><th>Tax Year</th><th>Neighborhood Code</th><th>Land Square Feet</th><th>Town Code</th></tr><tr><th></th><th title=\"Int64\">Int64</th><th title=\"Int64\">Int64</th><th title=\"Int64\">Int64</th><th title=\"Int64\">Int64</th><th title=\"Int64\">Int64</th><th title=\"Int64\">Int64</th></tr></thead><tbody><tr><th>1</th><td>1011000040000</td><td>212</td><td>2018</td><td>12</td><td>11055</td><td>10</td></tr><tr><th>2</th><td>1011000050000</td><td>205</td><td>2018</td><td>12</td><td>6534</td><td>10</td></tr><tr><th>3</th><td>1011000060000</td><td>212</td><td>2018</td><td>12</td><td>6534</td><td>10</td></tr><tr><th>4</th><td>1011000090000</td><td>212</td><td>2018</td><td>12</td><td>13571</td><td>10</td></tr><tr><th>5</th><td>1011000170000</td><td>205</td><td>2018</td><td>12</td><td>9027</td><td>10</td></tr><tr><th>6</th><td>1011000180000</td><td>205</td><td>2018</td><td>12</td><td>12012</td><td>10</td></tr><tr><th>7</th><td>1011000190000</td><td>202</td><td>2018</td><td>12</td><td>6699</td><td>10</td></tr><tr><th>8</th><td>1011000200000</td><td>211</td><td>2018</td><td>12</td><td>6699</td><td>10</td></tr><tr><th>9</th><td>1011000230000</td><td>205</td><td>2018</td><td>12</td><td>13068</td><td>10</td></tr><tr><th>10</th><td>1011000250000</td><td>203</td><td>2018</td><td>12</td><td>5040</td><td>10</td></tr></tbody></table></div>"
      ],
      "text/latex": [
       "\\begin{tabular}{r|ccccccc}\n",
       "\t& PIN & Property Class & Tax Year & Neighborhood Code & Land Square Feet & Town Code & \\\\\n",
       "\t\\hline\n",
       "\t& Int64 & Int64 & Int64 & Int64 & Int64 & Int64 & \\\\\n",
       "\t\\hline\n",
       "\t1 & 1011000040000 & 212 & 2018 & 12 & 11055 & 10 & $\\dots$ \\\\\n",
       "\t2 & 1011000050000 & 205 & 2018 & 12 & 6534 & 10 & $\\dots$ \\\\\n",
       "\t3 & 1011000060000 & 212 & 2018 & 12 & 6534 & 10 & $\\dots$ \\\\\n",
       "\t4 & 1011000090000 & 212 & 2018 & 12 & 13571 & 10 & $\\dots$ \\\\\n",
       "\t5 & 1011000170000 & 205 & 2018 & 12 & 9027 & 10 & $\\dots$ \\\\\n",
       "\t6 & 1011000180000 & 205 & 2018 & 12 & 12012 & 10 & $\\dots$ \\\\\n",
       "\t7 & 1011000190000 & 202 & 2018 & 12 & 6699 & 10 & $\\dots$ \\\\\n",
       "\t8 & 1011000200000 & 211 & 2018 & 12 & 6699 & 10 & $\\dots$ \\\\\n",
       "\t9 & 1011000230000 & 205 & 2018 & 12 & 13068 & 10 & $\\dots$ \\\\\n",
       "\t10 & 1011000250000 & 203 & 2018 & 12 & 5040 & 10 & $\\dots$ \\\\\n",
       "\\end{tabular}\n"
      ],
      "text/plain": [
       "\u001b[1m10×82 DataFrame\u001b[0m\n",
       "\u001b[1m Row \u001b[0m│\u001b[1m PIN           \u001b[0m\u001b[1m Property Class \u001b[0m\u001b[1m Tax Year \u001b[0m\u001b[1m Neighborhood Code \u001b[0m\u001b[1m Land Square\u001b[0m ⋯\n",
       "\u001b[1m     \u001b[0m│\u001b[90m Int64         \u001b[0m\u001b[90m Int64          \u001b[0m\u001b[90m Int64    \u001b[0m\u001b[90m Int64             \u001b[0m\u001b[90m Int64      \u001b[0m ⋯\n",
       "─────┼──────────────────────────────────────────────────────────────────────────\n",
       "   1 │ 1011000040000             212      2018                 12              ⋯\n",
       "   2 │ 1011000050000             205      2018                 12\n",
       "   3 │ 1011000060000             212      2018                 12\n",
       "   4 │ 1011000090000             212      2018                 12\n",
       "   5 │ 1011000170000             205      2018                 12              ⋯\n",
       "   6 │ 1011000180000             205      2018                 12\n",
       "   7 │ 1011000190000             202      2018                 12\n",
       "   8 │ 1011000200000             211      2018                 12\n",
       "   9 │ 1011000230000             205      2018                 12              ⋯\n",
       "  10 │ 1011000250000             203      2018                 12\n",
       "\u001b[36m                                                              78 columns omitted\u001b[0m"
      ]
     },
     "execution_count": 5,
     "metadata": {},
     "output_type": "execute_result"
    }
   ],
   "source": [
    "@show typeof(C)\n",
    "C[1:10,:]"
   ]
  },
  {
   "cell_type": "code",
   "execution_count": 6,
   "id": "3bf04ba4-530c-4c44-92ca-8a7ac97e4260",
   "metadata": {},
   "outputs": [
    {
     "data": {
      "text/plain": [
       "82-element Vector{String}:\n",
       " \"PIN\"\n",
       " \"Property Class\"\n",
       " \"Tax Year\"\n",
       " \"Neighborhood Code\"\n",
       " \"Land Square Feet\"\n",
       " \"Town Code\"\n",
       " \"Type of Residence\"\n",
       " \"Apartments\"\n",
       " \"Wall Material\"\n",
       " \"Roof Material\"\n",
       " \"Rooms\"\n",
       " \"Bedrooms\"\n",
       " \"Basement\"\n",
       " ⋮\n",
       " \"Lot Size Squared\"\n",
       " \"Improvement Size Squared\"\n",
       " \"Location Factor\"\n",
       " \"Garage indicator\"\n",
       " \"Residential share of building\"\n",
       " \"Pure Market Sale\"\n",
       " \"Pure Market Filter\"\n",
       " \"Neigborhood Code (mapping)\"\n",
       " \"Square root of lot size\"\n",
       " \"Square root of age\"\n",
       " \"Square root of improvement size\"\n",
       " \"Town and Neighborhood\""
      ]
     },
     "execution_count": 6,
     "metadata": {},
     "output_type": "execute_result"
    }
   ],
   "source": [
    "names(C)"
   ]
  },
  {
   "cell_type": "code",
   "execution_count": 7,
   "id": "fd39381a-a0fd-407f-b212-c0ddb3d93123",
   "metadata": {},
   "outputs": [
    {
     "data": {
      "text/html": [
       "<div class=\"data-frame\"><p>82 rows × 7 columns (omitted printing of 1 columns)</p><table class=\"data-frame\"><thead><tr><th></th><th>variable</th><th>mean</th><th>min</th><th>median</th><th>max</th><th>nmissing</th></tr><tr><th></th><th title=\"Symbol\">Symbol</th><th title=\"Union{Nothing, Float64}\">Union…</th><th title=\"Any\">Any</th><th title=\"Union{Nothing, Float64}\">Union…</th><th title=\"Any\">Any</th><th title=\"Int64\">Int64</th></tr></thead><tbody><tr><th>1</th><td>PIN</td><td>1.43324e13</td><td>1011000040000</td><td>1.40521e13</td><td>33323020150000</td><td>0</td></tr><tr><th>2</th><td>Property Class</td><td>242.894</td><td>200</td><td>211.0</td><td>299</td><td>0</td></tr><tr><th>3</th><td>Tax Year</td><td>2018.79</td><td>2018</td><td>2019.0</td><td>2019</td><td>0</td></tr><tr><th>4</th><td>Neighborhood Code</td><td>92.1232</td><td>10</td><td>70.0</td><td>999</td><td>0</td></tr><tr><th>5</th><td>Land Square Feet</td><td>69733.1</td><td>0</td><td>7500.0</td><td>7753680</td><td>0</td></tr><tr><th>6</th><td>Town Code</td><td>43.3362</td><td>10</td><td>35.0</td><td>77</td><td>0</td></tr><tr><th>7</th><td>Type of Residence</td><td>2.10847</td><td>1</td><td>2.0</td><td>9</td><td>602055</td></tr><tr><th>8</th><td>Apartments</td><td>0.332234</td><td>-5</td><td>0.0</td><td>9</td><td>602017</td></tr><tr><th>9</th><td>Wall Material</td><td>1.96236</td><td>1</td><td>2.0</td><td>4</td><td>602055</td></tr><tr><th>10</th><td>Roof Material</td><td>1.15545</td><td>1</td><td>1.0</td><td>6</td><td>602055</td></tr><tr><th>11</th><td>Rooms</td><td>7.0797</td><td>2</td><td>6.0</td><td>320</td><td>602055</td></tr><tr><th>12</th><td>Bedrooms</td><td>3.5493</td><td>1</td><td>3.0</td><td>90</td><td>602055</td></tr><tr><th>13</th><td>Basement</td><td>1.7809</td><td>1</td><td>1.0</td><td>4</td><td>602055</td></tr><tr><th>14</th><td>Basement Finish</td><td>2.37129</td><td>1</td><td>3.0</td><td>3</td><td>602058</td></tr><tr><th>15</th><td>Central Heating</td><td>1.14318</td><td>1</td><td>1.0</td><td>2</td><td>602055</td></tr><tr><th>16</th><td>Other Heating</td><td>4.90763</td><td>2</td><td>5.0</td><td>5</td><td>602017</td></tr><tr><th>17</th><td>Central Air</td><td>0.519313</td><td>0</td><td>1.0</td><td>1</td><td>602055</td></tr><tr><th>18</th><td>Fireplaces</td><td>1.11823</td><td>0</td><td>1.0</td><td>2</td><td>602017</td></tr><tr><th>19</th><td>Attic Type</td><td>2.51586</td><td>1</td><td>3.0</td><td>3</td><td>602055</td></tr><tr><th>20</th><td>Attic Finish</td><td>0.577251</td><td>0</td><td>0.0</td><td>3</td><td>333393</td></tr><tr><th>21</th><td>Half Baths</td><td>0.50745</td><td>0</td><td>0.0</td><td>9</td><td>602017</td></tr><tr><th>22</th><td>Design Plan</td><td>1.45476</td><td>0</td><td>2.0</td><td>2</td><td>602017</td></tr><tr><th>23</th><td>Cathedral Ceiling</td><td>0.919335</td><td>0</td><td>0.0</td><td>2</td><td>602017</td></tr><tr><th>24</th><td>Construction Quality</td><td>1.98834</td><td>1</td><td>2.0</td><td>4</td><td>602055</td></tr><tr><th>25</th><td>Renovation</td><td>1.05684</td><td>1</td><td>1.0</td><td>2</td><td>1992944</td></tr><tr><th>26</th><td>Site Desireability</td><td>1.99633</td><td>1</td><td>2.0</td><td>3</td><td>602055</td></tr><tr><th>27</th><td>Garage 1 Size</td><td>2.34718</td><td>0</td><td>3.0</td><td>16</td><td>602017</td></tr><tr><th>28</th><td>Garage 1 Material</td><td>1.18926</td><td>0</td><td>1.0</td><td>4</td><td>602016</td></tr><tr><th>29</th><td>Garage 1 Attachment</td><td>1.33577</td><td>0</td><td>1.0</td><td>2</td><td>602016</td></tr><tr><th>30</th><td>Garage 1 Area</td><td>1.58995</td><td>0</td><td>2.0</td><td>2</td><td>602016</td></tr><tr><th>&vellip;</th><td>&vellip;</td><td>&vellip;</td><td>&vellip;</td><td>&vellip;</td><td>&vellip;</td><td>&vellip;</td></tr></tbody></table></div>"
      ],
      "text/latex": [
       "\\begin{tabular}{r|ccccccc}\n",
       "\t& variable & mean & min & median & max & nmissing & \\\\\n",
       "\t\\hline\n",
       "\t& Symbol & Union… & Any & Union… & Any & Int64 & \\\\\n",
       "\t\\hline\n",
       "\t1 & PIN & 1.43324e13 & 1011000040000 & 1.40521e13 & 33323020150000 & 0 & $\\dots$ \\\\\n",
       "\t2 & Property Class & 242.894 & 200 & 211.0 & 299 & 0 & $\\dots$ \\\\\n",
       "\t3 & Tax Year & 2018.79 & 2018 & 2019.0 & 2019 & 0 & $\\dots$ \\\\\n",
       "\t4 & Neighborhood Code & 92.1232 & 10 & 70.0 & 999 & 0 & $\\dots$ \\\\\n",
       "\t5 & Land Square Feet & 69733.1 & 0 & 7500.0 & 7753680 & 0 & $\\dots$ \\\\\n",
       "\t6 & Town Code & 43.3362 & 10 & 35.0 & 77 & 0 & $\\dots$ \\\\\n",
       "\t7 & Type of Residence & 2.10847 & 1 & 2.0 & 9 & 602055 & $\\dots$ \\\\\n",
       "\t8 & Apartments & 0.332234 & -5 & 0.0 & 9 & 602017 & $\\dots$ \\\\\n",
       "\t9 & Wall Material & 1.96236 & 1 & 2.0 & 4 & 602055 & $\\dots$ \\\\\n",
       "\t10 & Roof Material & 1.15545 & 1 & 1.0 & 6 & 602055 & $\\dots$ \\\\\n",
       "\t11 & Rooms & 7.0797 & 2 & 6.0 & 320 & 602055 & $\\dots$ \\\\\n",
       "\t12 & Bedrooms & 3.5493 & 1 & 3.0 & 90 & 602055 & $\\dots$ \\\\\n",
       "\t13 & Basement & 1.7809 & 1 & 1.0 & 4 & 602055 & $\\dots$ \\\\\n",
       "\t14 & Basement Finish & 2.37129 & 1 & 3.0 & 3 & 602058 & $\\dots$ \\\\\n",
       "\t15 & Central Heating & 1.14318 & 1 & 1.0 & 2 & 602055 & $\\dots$ \\\\\n",
       "\t16 & Other Heating & 4.90763 & 2 & 5.0 & 5 & 602017 & $\\dots$ \\\\\n",
       "\t17 & Central Air & 0.519313 & 0 & 1.0 & 1 & 602055 & $\\dots$ \\\\\n",
       "\t18 & Fireplaces & 1.11823 & 0 & 1.0 & 2 & 602017 & $\\dots$ \\\\\n",
       "\t19 & Attic Type & 2.51586 & 1 & 3.0 & 3 & 602055 & $\\dots$ \\\\\n",
       "\t20 & Attic Finish & 0.577251 & 0 & 0.0 & 3 & 333393 & $\\dots$ \\\\\n",
       "\t21 & Half Baths & 0.50745 & 0 & 0.0 & 9 & 602017 & $\\dots$ \\\\\n",
       "\t22 & Design Plan & 1.45476 & 0 & 2.0 & 2 & 602017 & $\\dots$ \\\\\n",
       "\t23 & Cathedral Ceiling & 0.919335 & 0 & 0.0 & 2 & 602017 & $\\dots$ \\\\\n",
       "\t24 & Construction Quality & 1.98834 & 1 & 2.0 & 4 & 602055 & $\\dots$ \\\\\n",
       "\t25 & Renovation & 1.05684 & 1 & 1.0 & 2 & 1992944 & $\\dots$ \\\\\n",
       "\t26 & Site Desireability & 1.99633 & 1 & 2.0 & 3 & 602055 & $\\dots$ \\\\\n",
       "\t27 & Garage 1 Size & 2.34718 & 0 & 3.0 & 16 & 602017 & $\\dots$ \\\\\n",
       "\t28 & Garage 1 Material & 1.18926 & 0 & 1.0 & 4 & 602016 & $\\dots$ \\\\\n",
       "\t29 & Garage 1 Attachment & 1.33577 & 0 & 1.0 & 2 & 602016 & $\\dots$ \\\\\n",
       "\t30 & Garage 1 Area & 1.58995 & 0 & 2.0 & 2 & 602016 & $\\dots$ \\\\\n",
       "\t$\\dots$ & $\\dots$ & $\\dots$ & $\\dots$ & $\\dots$ & $\\dots$ & $\\dots$ &  \\\\\n",
       "\\end{tabular}\n"
      ],
      "text/plain": [
       "\u001b[1m82×7 DataFrame\u001b[0m\n",
       "\u001b[1m Row \u001b[0m│\u001b[1m variable                        \u001b[0m\u001b[1m mean       \u001b[0m\u001b[1m min           \u001b[0m\u001b[1m median     \u001b[0m\u001b[1m\u001b[0m ⋯\n",
       "\u001b[1m     \u001b[0m│\u001b[90m Symbol                          \u001b[0m\u001b[90m Union…     \u001b[0m\u001b[90m Any           \u001b[0m\u001b[90m Union…     \u001b[0m\u001b[90m\u001b[0m ⋯\n",
       "─────┼──────────────────────────────────────────────────────────────────────────\n",
       "   1 │ PIN                              1.43324e13  1011000040000  1.40521e13  ⋯\n",
       "   2 │ Property Class                   242.894     200            211.0\n",
       "   3 │ Tax Year                         2018.79     2018           2019.0\n",
       "   4 │ Neighborhood Code                92.1232     10             70.0\n",
       "   5 │ Land Square Feet                 69733.1     0              7500.0      ⋯\n",
       "   6 │ Town Code                        43.3362     10             35.0\n",
       "   7 │ Type of Residence                2.10847     1              2.0\n",
       "   8 │ Apartments                       0.332234    -5             0.0\n",
       "   9 │ Wall Material                    1.96236     1              2.0         ⋯\n",
       "  10 │ Roof Material                    1.15545     1              1.0\n",
       "  11 │ Rooms                            7.0797      2              6.0\n",
       "  ⋮  │                ⋮                     ⋮             ⋮            ⋮       ⋱\n",
       "  73 │ Location Factor                  1.0         -0.858601      0.903182\n",
       "  74 │ Garage indicator                 0.845017    0              1.0         ⋯\n",
       "  75 │ Residential share of building    0.990788    0.0032         1.0\n",
       "  76 │ Pure Market Sale                 0.0433686   0              0.0\n",
       "  77 │ Pure Market Filter               0.0433686   0              0.0\n",
       "  78 │ Neigborhood Code (mapping)       92.1232     10             70.0        ⋯\n",
       "  79 │ Square root of lot size          155.045     0.0            86.6025\n",
       "  80 │ Square root of age               7.26627     1.0            7.48331\n",
       "  81 │ Square root of improvement size  41.7091     0.0            38.7943\n",
       "  82 │ Town and Neighborhood            18945.4     1011           7171.0      ⋯\n",
       "\u001b[36m                                                   3 columns and 61 rows omitted\u001b[0m"
      ]
     },
     "execution_count": 7,
     "metadata": {},
     "output_type": "execute_result"
    }
   ],
   "source": [
    "describe(C)"
   ]
  },
  {
   "cell_type": "code",
   "execution_count": 15,
   "id": "428971d8-3005-4ebf-a5b4-bbfba5f8f9c2",
   "metadata": {},
   "outputs": [
    {
     "name": "stdout",
     "output_type": "stream",
     "text": [
      "search: \u001b[0m\u001b[1md\u001b[22m\u001b[0m\u001b[1mr\u001b[22m\u001b[0m\u001b[1mo\u001b[22m\u001b[0m\u001b[1mp\u001b[22m\u001b[0m\u001b[1md\u001b[22m\u001b[0m\u001b[1mi\u001b[22m\u001b[0m\u001b[1mm\u001b[22m\u001b[0m\u001b[1ms\u001b[22m\n",
      "\n"
     ]
    },
    {
     "data": {
      "text/latex": [
       "\\begin{verbatim}\n",
       "dropdims(A; dims)\n",
       "\\end{verbatim}\n",
       "Return an array with the same data as \\texttt{A}, but with the dimensions specified by \\texttt{dims} removed. \\texttt{size(A,d)} must equal 1 for every \\texttt{d} in \\texttt{dims}, and repeated dimensions or numbers outside \\texttt{1:ndims(A)} are forbidden.\n",
       "\n",
       "The result shares the same underlying data as \\texttt{A}, such that the result is mutable if and only if \\texttt{A} is mutable, and setting elements of one alters the values of the other.\n",
       "\n",
       "See also: \\href{@ref}{\\texttt{reshape}}, \\href{@ref}{\\texttt{vec}}.\n",
       "\n",
       "\\section{Examples}\n",
       "\\begin{verbatim}\n",
       "julia> a = reshape(Vector(1:4),(2,2,1,1))\n",
       "2×2×1×1 Array{Int64, 4}:\n",
       "[:, :, 1, 1] =\n",
       " 1  3\n",
       " 2  4\n",
       "\n",
       "julia> b = dropdims(a; dims=3)\n",
       "2×2×1 Array{Int64, 3}:\n",
       "[:, :, 1] =\n",
       " 1  3\n",
       " 2  4\n",
       "\n",
       "julia> b[1,1,1] = 5; a\n",
       "2×2×1×1 Array{Int64, 4}:\n",
       "[:, :, 1, 1] =\n",
       " 5  3\n",
       " 2  4\n",
       "\\end{verbatim}\n"
      ],
      "text/markdown": [
       "```\n",
       "dropdims(A; dims)\n",
       "```\n",
       "\n",
       "Return an array with the same data as `A`, but with the dimensions specified by `dims` removed. `size(A,d)` must equal 1 for every `d` in `dims`, and repeated dimensions or numbers outside `1:ndims(A)` are forbidden.\n",
       "\n",
       "The result shares the same underlying data as `A`, such that the result is mutable if and only if `A` is mutable, and setting elements of one alters the values of the other.\n",
       "\n",
       "See also: [`reshape`](@ref), [`vec`](@ref).\n",
       "\n",
       "# Examples\n",
       "\n",
       "```jldoctest\n",
       "julia> a = reshape(Vector(1:4),(2,2,1,1))\n",
       "2×2×1×1 Array{Int64, 4}:\n",
       "[:, :, 1, 1] =\n",
       " 1  3\n",
       " 2  4\n",
       "\n",
       "julia> b = dropdims(a; dims=3)\n",
       "2×2×1 Array{Int64, 3}:\n",
       "[:, :, 1] =\n",
       " 1  3\n",
       " 2  4\n",
       "\n",
       "julia> b[1,1,1] = 5; a\n",
       "2×2×1×1 Array{Int64, 4}:\n",
       "[:, :, 1, 1] =\n",
       " 5  3\n",
       " 2  4\n",
       "```\n"
      ],
      "text/plain": [
       "\u001b[36m  dropdims(A; dims)\u001b[39m\n",
       "\n",
       "  Return an array with the same data as \u001b[36mA\u001b[39m, but with the dimensions specified\n",
       "  by \u001b[36mdims\u001b[39m removed. \u001b[36msize(A,d)\u001b[39m must equal 1 for every \u001b[36md\u001b[39m in \u001b[36mdims\u001b[39m, and repeated\n",
       "  dimensions or numbers outside \u001b[36m1:ndims(A)\u001b[39m are forbidden.\n",
       "\n",
       "  The result shares the same underlying data as \u001b[36mA\u001b[39m, such that the result is\n",
       "  mutable if and only if \u001b[36mA\u001b[39m is mutable, and setting elements of one alters the\n",
       "  values of the other.\n",
       "\n",
       "  See also: \u001b[36mreshape\u001b[39m, \u001b[36mvec\u001b[39m.\n",
       "\n",
       "\u001b[1m  Examples\u001b[22m\n",
       "\u001b[1m  ≡≡≡≡≡≡≡≡≡≡\u001b[22m\n",
       "\n",
       "\u001b[36m  julia> a = reshape(Vector(1:4),(2,2,1,1))\u001b[39m\n",
       "\u001b[36m  2×2×1×1 Array{Int64, 4}:\u001b[39m\n",
       "\u001b[36m  [:, :, 1, 1] =\u001b[39m\n",
       "\u001b[36m   1  3\u001b[39m\n",
       "\u001b[36m   2  4\u001b[39m\n",
       "\u001b[36m  \u001b[39m\n",
       "\u001b[36m  julia> b = dropdims(a; dims=3)\u001b[39m\n",
       "\u001b[36m  2×2×1 Array{Int64, 3}:\u001b[39m\n",
       "\u001b[36m  [:, :, 1] =\u001b[39m\n",
       "\u001b[36m   1  3\u001b[39m\n",
       "\u001b[36m   2  4\u001b[39m\n",
       "\u001b[36m  \u001b[39m\n",
       "\u001b[36m  julia> b[1,1,1] = 5; a\u001b[39m\n",
       "\u001b[36m  2×2×1×1 Array{Int64, 4}:\u001b[39m\n",
       "\u001b[36m  [:, :, 1, 1] =\u001b[39m\n",
       "\u001b[36m   5  3\u001b[39m\n",
       "\u001b[36m   2  4\u001b[39m"
      ]
     },
     "execution_count": 15,
     "metadata": {},
     "output_type": "execute_result"
    }
   ],
   "source": [
    "?dropdims"
   ]
  },
  {
   "cell_type": "code",
   "execution_count": null,
   "id": "54905706-3c8e-4a60-9cc5-4f94244f5fb1",
   "metadata": {},
   "outputs": [],
   "source": [
    "eruptions = D[!,:Eruptions]\n",
    "scatter(eruptions,label=\"eruptions\")\n",
    "waittime = D[!,:'Tax Year']\n",
    "scatter!(waittime,label=\"Tax Year\")"
   ]
  }
 ],
 "metadata": {
  "kernelspec": {
   "display_name": "Julia 1.7.2",
   "language": "julia",
   "name": "julia-1.7"
  },
  "language_info": {
   "file_extension": ".jl",
   "mimetype": "application/julia",
   "name": "julia",
   "version": "1.7.2"
  }
 },
 "nbformat": 4,
 "nbformat_minor": 5
}
