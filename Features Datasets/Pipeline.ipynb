{
 "cells": [
  {
   "cell_type": "markdown",
   "id": "68e0ffff-9fe0-469f-8b08-87f521b3a7b4",
   "metadata": {},
   "source": [
    "# Pipeline"
   ]
  },
  {
   "cell_type": "code",
   "execution_count": 4,
   "id": "4d5f28f3-3caf-4b8f-a1ab-01b8a25ad7f0",
   "metadata": {},
   "outputs": [],
   "source": [
    "import matplotlib.pyplot as plt \n",
    "from matplotlib.pylab import rcParams\n",
    "import pandas as pd\n",
    "import scipy.stats as sts\n",
    "import numpy as np"
   ]
  },
  {
   "cell_type": "code",
   "execution_count": 5,
   "id": "5af68640-333c-4e7f-89ef-86f6c0d68d05",
   "metadata": {},
   "outputs": [],
   "source": [
    "def investment_calc(rent, total_price, maintenance, insurance, taxes): \n",
    "    taxes = taxes/12\n",
    "#def rent_total(rent):\n",
    "    monthly_rent = rent\n",
    "    yearly_rent = rent * 12\n",
    "    #return monthly_rent, yearly_rent\n",
    "\n",
    "#def gross_rent_multiplier (total_price, yearly_rent):\n",
    "    GRM = total_price / yearly_rent\n",
    "    GRM = \"{:.2f}\".format(GRM)\n",
    "    #return GRM\n",
    "\n",
    "#def operating_expenses(maintenance, insurance, taxes, management, other):\n",
    "    op_ex = (maintenance + insurance + taxes)\n",
    "    op_exyearly = (maintenance + insurance + taxes) * 12\n",
    "    #return op_ex_monthly, op_ex_yearly\n",
    "\n",
    "#def noi(monthly_rent, op_ex_monthly, yearly_rent, op_ex_yearly):\n",
    "    noi_monthly = monthly_rent - op_ex\n",
    "    noi_yearly = yearly_rent - op_exyearly\n",
    "    #return noi_monthly, noi_yearly\n",
    "\n",
    "#def one_percent_rule(monthly_rent, total_price):\n",
    "    one_percent = (total_price * .01)\n",
    "    boolean = monthly_rent >= one_percent\n",
    "    #return boolean\n",
    "\n",
    "#def cap_rate(noi_yearly, total_price):\n",
    "    c_rate = (noi_yearly / total_price)*100\n",
    "    c_rate = \"{:.2f}\".format(c_rate)\n",
    "    #return c_rate\n",
    "    \n",
    "    return c_rate, GRM, noi_monthly, noi_yearly, boolean"
   ]
  },
  {
   "cell_type": "code",
   "execution_count": 6,
   "id": "72e53d91-374e-4255-b0f7-38a451906128",
   "metadata": {},
   "outputs": [
    {
     "name": "stdout",
     "output_type": "stream",
     "text": [
      "\n",
      "\n",
      "Cap Rate: -12853.57%\n",
      "Gross Rent Multiplier: 0.93\n",
      "Net Operating income: $-599.8333333333333 Monthly\n",
      "Net Operating income: $-7197.999999999999 Annual\n",
      "Is the One Percent Rule in effect?: True\n"
     ]
    }
   ],
   "source": [
<<<<<<< HEAD:Pipeline.ipynb
    "# rent = int(input('Enter Approximate Monthly Rent'))\n",
    "# total_price = int(input('Enter Total Property Price'))\n",
    "# maintenance = int(input('Enter Approximate Monthly Property Maintenance Cost'))\n",
    "# insurance = int(input('Enter Approximate Monthly Property Insurance Cost'))\n",
    "# taxes = (int(input('Enter Approximate Yearly Property Tax'))) / 12\n",
    "# management = int(input('Enter Approximate Monthly Property Management Cost'))\n",
    "# other = int(input('Enter Any other Approximate Monthly Property Expenses'))\n",
    "\n",
    "    \n",
    "# c_rate, GRM, noi_monthly, noi_yearly, boolean = investment_calc(rent, total_price, maintenance, insurance, management, taxes, other)\n",
=======
    "#rent = int(input('Enter Approximate Monthly Rent'))\n",
    "#total_price = int(input('Enter Total Property Price'))\n",
    "#maintenance = int(input('Enter Approximate Monthly Property Maintenance Cost'))\n",
    "#insurance = int(input('Enter Approximate Monthly Property Insurance Cost'))\n",
    "#taxes = (int(input('Enter Approximate Yearly Property Tax'))) / 12\n",
    "#management = int(input('Enter Approximate Monthly Property Management Cost'))\n",
    "#other = int(input('Enter Any other Approximate Monthly Property Expenses'))\n",
    "\n",
    "    \n",
    "c_rate, GRM, noi_monthly, noi_yearly, boolean = investment_calc(rent, total_price, maintenance, insurance, taxes)\n",
>>>>>>> 01a7f520a4e2b1bf69a0450680e6e04e7e0fb5ac:Features Datasets/Pipeline.ipynb
    "\n",
    "# print('\\n')\n",
    "# print(f'Cap Rate: {c_rate}%')\n",
    "# print(f'Gross Rent Multiplier: {GRM}')\n",
    "# print(f'Net Operating income: ${noi_monthly} Monthly')\n",
    "# print(f'Net Operating income: ${noi_yearly} Annual')\n",
    "# print(f'Is the One Percent Rule in effect?: {boolean}')"
   ]
  },
  {
   "cell_type": "code",
   "execution_count": 2,
   "id": "f546f776-c171-4ed4-b955-56629957c146",
   "metadata": {},
   "outputs": [],
   "source": [
    "def calculate_motage(loanamount, interest, lengthOfLoan):\n",
    "    borrowedMoney = loanamount\n",
    "    lengthOfLoan = lengthOfLoan * 12\n",
    "    interestRate = interest \n",
    "    calculedInterest = interestRate / 100 \n",
    "    interesPreparado = calculedInterest / 12 \n",
    "\n",
    "    percentage = interesPreparado; \n",
    "    percentagePlusOne = interesPreparado + 1\n",
    "    exponentiationOperator = (percentagePlusOne ** lengthOfLoan)\n",
    "    firstDividend = percentage * exponentiationOperator;\n",
    "    secondDividend = exponentiationOperator - 1\n",
    "    division = firstDividend / secondDividend\n",
    "    mortgage = borrowedMoney\n",
    "    quotas = mortgage * division\n",
    "\n",
    "    return quotas\n",
    "     \n",
    "    "
   ]
  },
  {
   "cell_type": "code",
   "execution_count": 3,
   "id": "f77b5179",
   "metadata": {},
   "outputs": [
    {
     "name": "stdout",
     "output_type": "stream",
     "text": [
      "462.4452067849272\n",
      "Amount of mortgage:  None\n"
     ]
    }
   ],
   "source": [
    "loanamount = float(input(\"Load Amount: \"))\n",
    "interest = float(input(\"Interest: \"))\n",
    "lengthOfLoan = float(input(\"Length of Loan: \"))\n",
    "\n",
    "amount_mortgage = calculate_motage(loanamount, interest, lengthOfLoan)\n",
    "print(\"Amount of mortgage: \", amount_mortgage)"
   ]
  }
 ],
 "metadata": {
  "interpreter": {
   "hash": "5e4a36ca93bd388db6e69c77c759bcd06aba37cc10b2257a441810a0c6a59264"
  },
  "kernelspec": {
   "display_name": "Python [conda env:sete]",
   "language": "python",
   "name": "python3"
  },
  "language_info": {
   "codemirror_mode": {
    "name": "ipython",
    "version": 3
   },
   "file_extension": ".py",
   "mimetype": "text/x-python",
   "name": "python",
   "nbconvert_exporter": "python",
   "pygments_lexer": "ipython3",
   "version": "3.8.10"
  }
 },
 "nbformat": 4,
 "nbformat_minor": 5
}
